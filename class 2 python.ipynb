{
 "cells": [
  {
   "cell_type": "code",
   "execution_count": 2,
   "id": "f9c8f3be",
   "metadata": {},
   "outputs": [
    {
     "name": "stdout",
     "output_type": "stream",
     "text": [
      "condition is not valid\n"
     ]
    }
   ],
   "source": [
    "a=10\n",
    "b=20\n",
    "\n",
    "if(a==10 and b>20):\n",
    "    print(\"this is a valid statement\")\n",
    "elif(a==10 and b<20):\n",
    "    print(\"this is valid statement inside elif\")\n",
    "else:\n",
    "    print(\"condition is not valid\")"
   ]
  },
  {
   "cell_type": "code",
   "execution_count": 3,
   "id": "30dffee4",
   "metadata": {},
   "outputs": [
    {
     "name": "stdout",
     "output_type": "stream",
     "text": [
      "this is a valid statement\n"
     ]
    }
   ],
   "source": [
    "a=10\n",
    "b=20\n",
    "\n",
    "if(a==10 or b>20):\n",
    "    print(\"this is a valid statement\")\n",
    "elif(a==10 and b<20):\n",
    "    print(\"this is valid statement inside elif\")\n",
    "else:\n",
    "    print(\"condition is not valid\")"
   ]
  },
  {
   "cell_type": "code",
   "execution_count": 4,
   "id": "067ee5b1",
   "metadata": {},
   "outputs": [
    {
     "data": {
      "text/plain": [
       "'\\ntask:\\ntake a input from your keyboard as your first name and last name and \\nthen try to validate by writing multiple conditions by yourself\\n'"
      ]
     },
     "execution_count": 4,
     "metadata": {},
     "output_type": "execute_result"
    }
   ],
   "source": [
    "#Question\n",
    "\"\"\"\n",
    "task:\n",
    "take a input from your keyboard as your first name and last name and \n",
    "then try to validate by writing multiple conditions by yourself\n",
    "\"\"\""
   ]
  },
  {
   "cell_type": "code",
   "execution_count": 6,
   "id": "86a320bc",
   "metadata": {},
   "outputs": [
    {
     "name": "stdout",
     "output_type": "stream",
     "text": [
      "Enter first namesai krishna\n"
     ]
    }
   ],
   "source": [
    "p=input(\"Enter first name\");"
   ]
  },
  {
   "cell_type": "code",
   "execution_count": 7,
   "id": "cccb398b",
   "metadata": {},
   "outputs": [
    {
     "name": "stdout",
     "output_type": "stream",
     "text": [
      "Enter last namevysyaraju\n"
     ]
    }
   ],
   "source": [
    "q=input(\"Enter last name\");"
   ]
  },
  {
   "cell_type": "code",
   "execution_count": 8,
   "id": "cb2fde50",
   "metadata": {},
   "outputs": [
    {
     "name": "stdout",
     "output_type": "stream",
     "text": [
      "then name will be vysyaraju sai krishna\n"
     ]
    }
   ],
   "source": [
    "if(p== \"sai krishna\" and q==\"vysyaraju\"):\n",
    "    print(\"then name will be vysyaraju sai krishna\")\n",
    "else:\n",
    "    print(\"this name is not correct\")"
   ]
  },
  {
   "cell_type": "code",
   "execution_count": 10,
   "id": "daafd474",
   "metadata": {},
   "outputs": [
    {
     "name": "stdout",
     "output_type": "stream",
     "text": [
      "this is correct\n"
     ]
    }
   ],
   "source": [
    "a=10\n",
    "if a==10:print(\"this is correct\")\n",
    "#this is also one of the way of indentation ."
   ]
  },
  {
   "cell_type": "code",
   "execution_count": 11,
   "id": "625f15c9",
   "metadata": {},
   "outputs": [],
   "source": [
    "# while loop"
   ]
  },
  {
   "cell_type": "code",
   "execution_count": 12,
   "id": "d3442e56",
   "metadata": {},
   "outputs": [
    {
     "name": "stdout",
     "output_type": "stream",
     "text": [
      "1\n",
      "2\n",
      "3\n",
      "4\n"
     ]
    }
   ],
   "source": [
    "i=1\n",
    "j=5\n",
    "while(i<j):\n",
    "    print(i)\n",
    "    i=i+1"
   ]
  },
  {
   "cell_type": "code",
   "execution_count": 13,
   "id": "2b5a5fed",
   "metadata": {},
   "outputs": [],
   "source": [
    "#16:20"
   ]
  },
  {
   "cell_type": "code",
   "execution_count": 14,
   "id": "e43b0dbd",
   "metadata": {},
   "outputs": [
    {
     "name": "stdout",
     "output_type": "stream",
     "text": [
      "1\n",
      "2\n",
      "3\n",
      "4\n",
      "no 10 rupees notes are available\n"
     ]
    }
   ],
   "source": [
    "notes =5\n",
    "i=1\n",
    "while(i<notes):\n",
    "    print(i)\n",
    "    i +=1\n",
    "else:\n",
    "    print(\"no 10 rupees notes are available\")"
   ]
  },
  {
   "cell_type": "code",
   "execution_count": 15,
   "id": "69664264",
   "metadata": {},
   "outputs": [
    {
     "data": {
      "text/plain": [
       "'\\nobserve the above code properly and\\nthis is while-else and it is not just while loop.\\nso when the while loop fails then the else block executes .\\nso after completion of while loop the else block is executed.\\n'"
      ]
     },
     "execution_count": 15,
     "metadata": {},
     "output_type": "execute_result"
    }
   ],
   "source": [
    "\"\"\"\n",
    "observe the above code properly and\n",
    "this is while-else and it is not just while loop.\n",
    "so when the while loop fails then the else block executes .\n",
    "so after completion of while loop the else block is executed.\n",
    "\"\"\""
   ]
  },
  {
   "cell_type": "code",
   "execution_count": 16,
   "id": "ff57af89",
   "metadata": {},
   "outputs": [
    {
     "name": "stdout",
     "output_type": "stream",
     "text": [
      "1\n",
      "2\n",
      "3\n",
      "4\n",
      "5\n",
      "no 10 rupees notes are available\n"
     ]
    }
   ],
   "source": [
    "notes =5\n",
    "i=1\n",
    "j=1\n",
    "while(i<notes):\n",
    "    print(i)\n",
    "    i +=1\n",
    "else:\n",
    "    while(j<2):\n",
    "        print(i)\n",
    "        j=j+1\n",
    "    print(\"no 10 rupees notes are available\")"
   ]
  },
  {
   "cell_type": "code",
   "execution_count": 25,
   "id": "296f45ce",
   "metadata": {},
   "outputs": [],
   "source": [
    "s=\"my name is sai krishna\"\n",
    "#string always try to store the data in the form of indexes"
   ]
  },
  {
   "cell_type": "code",
   "execution_count": 26,
   "id": "e38c9a0e",
   "metadata": {},
   "outputs": [
    {
     "data": {
      "text/plain": [
       "'m'"
      ]
     },
     "execution_count": 26,
     "metadata": {},
     "output_type": "execute_result"
    }
   ],
   "source": [
    "s[0]"
   ]
  },
  {
   "cell_type": "code",
   "execution_count": 27,
   "id": "1b0079ae",
   "metadata": {},
   "outputs": [
    {
     "data": {
      "text/plain": [
       "' '"
      ]
     },
     "execution_count": 27,
     "metadata": {},
     "output_type": "execute_result"
    }
   ],
   "source": [
    "s[2]"
   ]
  },
  {
   "cell_type": "code",
   "execution_count": 28,
   "id": "33a62a25",
   "metadata": {},
   "outputs": [
    {
     "ename": "IndexError",
     "evalue": "string index out of range",
     "output_type": "error",
     "traceback": [
      "\u001b[1;31m---------------------------------------------------------------------------\u001b[0m",
      "\u001b[1;31mIndexError\u001b[0m                                Traceback (most recent call last)",
      "Cell \u001b[1;32mIn[28], line 1\u001b[0m\n\u001b[1;32m----> 1\u001b[0m s[\u001b[38;5;241m26\u001b[39m]\n",
      "\u001b[1;31mIndexError\u001b[0m: string index out of range"
     ]
    }
   ],
   "source": [
    "s[26]"
   ]
  },
  {
   "cell_type": "code",
   "execution_count": 32,
   "id": "3d006c97",
   "metadata": {},
   "outputs": [
    {
     "data": {
      "text/plain": [
       "'name is'"
      ]
     },
     "execution_count": 32,
     "metadata": {},
     "output_type": "execute_result"
    }
   ],
   "source": [
    "s[3:10]"
   ]
  },
  {
   "cell_type": "code",
   "execution_count": 34,
   "id": "39fb55ef",
   "metadata": {},
   "outputs": [
    {
     "data": {
      "text/plain": [
       "'\\nFirst parameter is starting index and second parameter is endindex where the last index is excluded\\nstarting index is 3\\nand last index is 10-1\\nso the string contains index from 3 to 9 in the output\\n'"
      ]
     },
     "execution_count": 34,
     "metadata": {},
     "output_type": "execute_result"
    }
   ],
   "source": [
    "\n",
    "\"\"\"\n",
    "First parameter is starting index and second parameter is endindex where the last index is excluded\n",
    "starting index is 3\n",
    "and last index is 10-1\n",
    "so the string contains index from 3 to 9 in the output\n",
    "\"\"\""
   ]
  },
  {
   "cell_type": "code",
   "execution_count": 2,
   "id": "9b51a699",
   "metadata": {},
   "outputs": [
    {
     "data": {
      "text/plain": [
       "'nm s'"
      ]
     },
     "execution_count": 2,
     "metadata": {},
     "output_type": "execute_result"
    }
   ],
   "source": [
    "s=\"my name is sai krishna\"\n",
    "s[3:10:2]\n",
    "#here the third parameter is step size.\n",
    "#by default the step size is 1.\n"
   ]
  },
  {
   "cell_type": "code",
   "execution_count": 3,
   "id": "a1fb3c2c",
   "metadata": {},
   "outputs": [
    {
     "data": {
      "text/plain": [
       "''"
      ]
     },
     "execution_count": 3,
     "metadata": {},
     "output_type": "execute_result"
    }
   ],
   "source": [
    "s[10:3]\n",
    "# by default the step size is 1 . And we want to print the elements from index 10 to index 2.but while printing after index 10 \n",
    "#index 11 will come as default step size is 1 but we want to print till the 2nd index of the string.We want to come in reverse\n",
    "# direction from index 10.\n",
    "#here we are getting the conflict\n",
    "#so whenever the conflict is created it prints just a empty string.\n",
    "#as we want to move in reverse direction from index 10 to index 2 we need to give step size as -1."
   ]
  },
  {
   "cell_type": "code",
   "execution_count": 4,
   "id": "161f61d3",
   "metadata": {},
   "outputs": [
    {
     "data": {
      "text/plain": [
       "' si ema'"
      ]
     },
     "execution_count": 4,
     "metadata": {},
     "output_type": "execute_result"
    }
   ],
   "source": [
    "s[10:3:-1]"
   ]
  },
  {
   "cell_type": "code",
   "execution_count": 6,
   "id": "50140b16",
   "metadata": {},
   "outputs": [
    {
     "data": {
      "text/plain": [
       "'anhsirk ias si eman ym'"
      ]
     },
     "execution_count": 6,
     "metadata": {},
     "output_type": "execute_result"
    }
   ],
   "source": [
    "s[: : -1]\n",
    "#reversal of complete string \n",
    "# when we donot give anything in start index or ending index then by default it is going to print from\n",
    "#last index to till zeroth index of the string directly by maintaining steep size as -1\n"
   ]
  },
  {
   "cell_type": "code",
   "execution_count": 7,
   "id": "44559b40",
   "metadata": {},
   "outputs": [
    {
     "data": {
      "text/plain": [
       "' name is sai k'"
      ]
     },
     "execution_count": 7,
     "metadata": {},
     "output_type": "execute_result"
    }
   ],
   "source": [
    "s[2:-6]"
   ]
  },
  {
   "cell_type": "code",
   "execution_count": 8,
   "id": "85574861",
   "metadata": {},
   "outputs": [
    {
     "data": {
      "text/plain": [
       "'a'"
      ]
     },
     "execution_count": 8,
     "metadata": {},
     "output_type": "execute_result"
    }
   ],
   "source": [
    "s[-1]"
   ]
  },
  {
   "cell_type": "code",
   "execution_count": 9,
   "id": "acbc8826",
   "metadata": {},
   "outputs": [
    {
     "data": {
      "text/plain": [
       "'n'"
      ]
     },
     "execution_count": 9,
     "metadata": {},
     "output_type": "execute_result"
    }
   ],
   "source": [
    "s[-2]"
   ]
  },
  {
   "cell_type": "code",
   "execution_count": 10,
   "id": "dc2bd20a",
   "metadata": {},
   "outputs": [
    {
     "data": {
      "text/plain": [
       "' name is sai k'"
      ]
     },
     "execution_count": 10,
     "metadata": {},
     "output_type": "execute_result"
    }
   ],
   "source": [
    "s[2:-6]"
   ]
  },
  {
   "cell_type": "code",
   "execution_count": 14,
   "id": "08d481f4",
   "metadata": {},
   "outputs": [
    {
     "name": "stdout",
     "output_type": "stream",
     "text": [
      "m\n",
      "y\n",
      " \n",
      "n\n",
      "a\n",
      "m\n",
      "e\n",
      " \n",
      "i\n",
      "i got s as string\n",
      "s\n",
      " \n",
      "i got s as string\n",
      "s\n",
      "a\n",
      "i\n",
      " \n",
      "k\n",
      "r\n",
      "i\n",
      "i got s as string\n",
      "s\n",
      "h\n",
      "n\n",
      "a\n"
     ]
    }
   ],
   "source": [
    "s=\"my name is sai krishna\"\n",
    "for i in s:\n",
    "    if(i==\"s\"):\n",
    "        print(\"i got s as string\")\n",
    "    print(i)"
   ]
  },
  {
   "cell_type": "code",
   "execution_count": 15,
   "id": "367684e6",
   "metadata": {},
   "outputs": [
    {
     "name": "stdout",
     "output_type": "stream",
     "text": [
      "m\n",
      "y\n",
      " \n",
      "n\n",
      "a\n",
      "m\n",
      "e\n",
      " \n",
      "i\n",
      "i got s as string\n",
      "s\n",
      " \n",
      "i got s as string\n",
      "s\n",
      "a\n",
      "i\n",
      " \n",
      "k\n",
      "r\n",
      "i\n",
      "i got s as string\n",
      "s\n",
      "h\n",
      "n\n",
      "a\n",
      "this is else condition\n"
     ]
    }
   ],
   "source": [
    "s=\"my name is sai krishna\"\n",
    "for i in s:\n",
    "    if(i==\"s\"):\n",
    "        print(\"i got s as string\")\n",
    "    print(i)\n",
    "else:\n",
    "    print(\"this is else condition\")"
   ]
  },
  {
   "cell_type": "code",
   "execution_count": 16,
   "id": "0241fd04",
   "metadata": {},
   "outputs": [],
   "source": [
    "# this is for else .\n",
    "#when for loop exhausts then the else block will get executed."
   ]
  },
  {
   "cell_type": "code",
   "execution_count": 17,
   "id": "51736aae",
   "metadata": {},
   "outputs": [
    {
     "name": "stdout",
     "output_type": "stream",
     "text": [
      "m\n",
      "y\n",
      " \n"
     ]
    }
   ],
   "source": [
    "s=\"my name is sai krishna\"\n",
    "for i in s:\n",
    "    if(i==\"n\"):\n",
    "        break\n",
    "    print(i)\n",
    "else:\n",
    "    print(\"this is else condition\")"
   ]
  },
  {
   "cell_type": "code",
   "execution_count": 18,
   "id": "69ffeb41",
   "metadata": {},
   "outputs": [
    {
     "data": {
      "text/plain": [
       "'\\nIn the for-else if for-loop completes then only it enters into else.\\nas the break is executed in the for-loop ,for-loop terminates without completing the for-loop.\\nso the else block will not be executed here in this usecase.\\nthe else block gets executed in for-else only if the for-loop completes its execuion.\\nso this is the reason because the print statement in else block is not executed in the above code.\\n\\n'"
      ]
     },
     "execution_count": 18,
     "metadata": {},
     "output_type": "execute_result"
    }
   ],
   "source": [
    "\"\"\"\n",
    "In the for-else if for-loop completes then only it enters into else.\n",
    "as the break is executed in the for-loop ,for-loop terminates without completing the for-loop.\n",
    "so the else block will not be executed here in this usecase.\n",
    "the else block gets executed in for-else only if the for-loop completes its execuion.\n",
    "so this is the reason because the print statement in else block is not executed in the above code.\n",
    "\n",
    "\"\"\"\n"
   ]
  },
  {
   "cell_type": "code",
   "execution_count": 19,
   "id": "abcc1a96",
   "metadata": {},
   "outputs": [
    {
     "name": "stdout",
     "output_type": "stream",
     "text": [
      "m\n",
      "y\n",
      " \n",
      "a\n",
      "m\n",
      "e\n",
      " \n",
      "i\n",
      "s\n",
      " \n",
      "s\n",
      "a\n",
      "i\n",
      " \n",
      "k\n",
      "r\n",
      "i\n",
      "s\n",
      "h\n",
      "a\n",
      "this is else condition\n"
     ]
    }
   ],
   "source": [
    "s=\"my name is sai krishna\"\n",
    "for i in s:\n",
    "    if(i==\"n\"):\n",
    "        continue\n",
    "    print(i)\n",
    "else:\n",
    "    print(\"this is else condition\")"
   ]
  },
  {
   "cell_type": "code",
   "execution_count": 20,
   "id": "5890fcd3",
   "metadata": {},
   "outputs": [],
   "source": [
    "#as for loop gets completed so the else block also executes in the above code.\n",
    "# here i values are m,y,n,a,m,e,i,s,..."
   ]
  },
  {
   "cell_type": "code",
   "execution_count": 21,
   "id": "69722172",
   "metadata": {},
   "outputs": [
    {
     "name": "stdout",
     "output_type": "stream",
     "text": [
      "ieuro\n"
     ]
    }
   ],
   "source": [
    "s=\"ineuron\"\n",
    "ss=\"\"\n",
    "for i in range(len(s)):\n",
    "    if(s[i]==\"n\"):\n",
    "        continue\n",
    "    ss=ss+s[i]\n",
    "print(ss)\n",
    "    "
   ]
  },
  {
   "cell_type": "code",
   "execution_count": 22,
   "id": "8432d733",
   "metadata": {},
   "outputs": [],
   "source": [
    "#The range() function returns a sequence of numbers, starting from 0 by default, and increments by 1 (by default), \n",
    "# and stops before a specified number."
   ]
  },
  {
   "cell_type": "code",
   "execution_count": 23,
   "id": "b984381c",
   "metadata": {},
   "outputs": [],
   "source": [
    "# so the i values are 0,1,2,3,4,5,6"
   ]
  },
  {
   "cell_type": "code",
   "execution_count": 26,
   "id": "36e49b88",
   "metadata": {},
   "outputs": [
    {
     "name": "stdout",
     "output_type": "stream",
     "text": [
      "+ \r\n",
      "+ + \r\n",
      "+ + + \r\n",
      "+ + + + \r\n",
      "+ + + + + \r\n",
      "+ + + + + + \r\n",
      "+ + + + + + + \r\n"
     ]
    }
   ],
   "source": [
    "n=7\n",
    "\n",
    "for i in range(0,n):\n",
    "    for j in range(0,i+1):\n",
    "        print(\"+\",end=\" \")\n",
    "    print(\"\\r\")"
   ]
  },
  {
   "cell_type": "code",
   "execution_count": null,
   "id": "9441641b",
   "metadata": {},
   "outputs": [],
   "source": [
    "#1hour15min"
   ]
  }
 ],
 "metadata": {
  "kernelspec": {
   "display_name": "Python 3 (ipykernel)",
   "language": "python",
   "name": "python3"
  },
  "language_info": {
   "codemirror_mode": {
    "name": "ipython",
    "version": 3
   },
   "file_extension": ".py",
   "mimetype": "text/x-python",
   "name": "python",
   "nbconvert_exporter": "python",
   "pygments_lexer": "ipython3",
   "version": "3.11.3"
  }
 },
 "nbformat": 4,
 "nbformat_minor": 5
}
