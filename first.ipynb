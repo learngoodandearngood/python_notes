{
 "cells": [
  {
   "cell_type": "code",
   "execution_count": 1,
   "id": "6ea5b9f7",
   "metadata": {},
   "outputs": [],
   "source": [
    "# Artificial intelligence is a system or final product or final solution which can take final decision .\n",
    "# self driver car is a system which can detect every object and based on the object system will take decision like left or right,\n",
    "# speed, etc.."
   ]
  },
  {
   "cell_type": "code",
   "execution_count": 2,
   "id": "0e3624df",
   "metadata": {},
   "outputs": [],
   "source": [
    "# AI is a final product or solution which can make intelligent decisions.\n",
    "\n",
    "# tesla car takes decision based on the various aspects \n",
    "\n",
    "# Examples of ai in real life is prduct recommendation in amazon,tesla car, ola price detection for each ride,face detection,etc..\n",
    "# is based on ai.\n"
   ]
  },
  {
   "cell_type": "code",
   "execution_count": 3,
   "id": "c8272b8e",
   "metadata": {},
   "outputs": [],
   "source": [
    "# In anaconda python will be there by default."
   ]
  },
  {
   "cell_type": "code",
   "execution_count": 4,
   "id": "46de2eda",
   "metadata": {},
   "outputs": [],
   "source": [
    "# whatever we can do with ananconda navigator the same thing can be done with anaconda prompt.But anacoda prompt is the \n",
    "# command line version of anaconda navigator .\n",
    "\n",
    "# open anaconda prompt and type jupyter notebook . click enter . jupyter notebook will open .\n",
    "# it is the way to launch .\n",
    "# Jupyter notebook is a web interface."
   ]
  },
  {
   "cell_type": "code",
   "execution_count": 6,
   "id": "39b7edf1",
   "metadata": {},
   "outputs": [],
   "source": [
    "# Whatever the code we write in jupyter notebook will not be executed directly by jupyter notebook.\n",
    "# The code we write in jupyter notebook will be sent to python compiler and python is installed at the time of installing anaconda.\n",
    "# So python compiler will give the responses .\n",
    "# It looks like jupyter notebook is executing the code but it is wrong ."
   ]
  },
  {
   "cell_type": "code",
   "execution_count": 7,
   "id": "7644e1a1",
   "metadata": {},
   "outputs": [],
   "source": [
    "# If u want to download jupyter notebook then File-> Download as -> Notebook (.ipynb)"
   ]
  },
  {
   "cell_type": "code",
   "execution_count": 8,
   "id": "a367b5e5",
   "metadata": {},
   "outputs": [],
   "source": [
    "# in github repositories means just a folder."
   ]
  },
  {
   "cell_type": "code",
   "execution_count": 10,
   "id": "f55cdfdb",
   "metadata": {},
   "outputs": [],
   "source": [
    "# How to upload ineuron assignments ?\n",
    "\n",
    "# goto github ->click on your profile ->create new repository -> click on upload an existing file -> add files -> commit changes\n",
    "\n",
    "# now if u click on the file the file opens in github and u can copy the link which is on top and submit the assignment . "
   ]
  },
  {
   "cell_type": "code",
   "execution_count": null,
   "id": "4f6a0e99",
   "metadata": {},
   "outputs": [],
   "source": [
    "'''\n",
    "we can use python in \n",
    "\n",
    "1)System programming\n",
    "2)GUI interface\n",
    "3)web scrapping\n",
    "4)Data bases\n",
    "5)Scientific programming\n",
    "6)Game development\n",
    "7)Image processing\n",
    "8)Robotics\n",
    "\n",
    "\n",
    "'''"
   ]
  },
  {
   "cell_type": "code",
   "execution_count": 11,
   "id": "b73ed728",
   "metadata": {},
   "outputs": [
    {
     "name": "stdout",
     "output_type": "stream",
     "text": [
      "The Zen of Python, by Tim Peters\n",
      "\n",
      "Beautiful is better than ugly.\n",
      "Explicit is better than implicit.\n",
      "Simple is better than complex.\n",
      "Complex is better than complicated.\n",
      "Flat is better than nested.\n",
      "Sparse is better than dense.\n",
      "Readability counts.\n",
      "Special cases aren't special enough to break the rules.\n",
      "Although practicality beats purity.\n",
      "Errors should never pass silently.\n",
      "Unless explicitly silenced.\n",
      "In the face of ambiguity, refuse the temptation to guess.\n",
      "There should be one-- and preferably only one --obvious way to do it.\n",
      "Although that way may not be obvious at first unless you're Dutch.\n",
      "Now is better than never.\n",
      "Although never is often better than *right* now.\n",
      "If the implementation is hard to explain, it's a bad idea.\n",
      "If the implementation is easy to explain, it may be a good idea.\n",
      "Namespaces are one honking great idea -- let's do more of those!\n"
     ]
    }
   ],
   "source": [
    "import this \n",
    "\n",
    "# after executing import this we will get output which describes something about python .\n",
    "# tagline of python"
   ]
  },
  {
   "cell_type": "code",
   "execution_count": 8,
   "id": "e67ee027",
   "metadata": {},
   "outputs": [
    {
     "name": "stdout",
     "output_type": "stream",
     "text": [
      "i am sai krishna\n"
     ]
    }
   ],
   "source": [
    "print(\"i am sai krishna\")"
   ]
  },
  {
   "cell_type": "code",
   "execution_count": 12,
   "id": "51d8ff1a",
   "metadata": {},
   "outputs": [],
   "source": [
    "# keep pointer inside print function and then click shift + tab then u will see the definition of print function ."
   ]
  },
  {
   "cell_type": "code",
   "execution_count": null,
   "id": "fc15b74f",
   "metadata": {},
   "outputs": [],
   "source": [
    "len()\n",
    "# if u want to know description of any function then keep pointer inside that function and then click shift + tab "
   ]
  },
  {
   "cell_type": "code",
   "execution_count": 13,
   "id": "42125fef",
   "metadata": {},
   "outputs": [
    {
     "data": {
      "text/plain": [
       "0.3333333333333333"
      ]
     },
     "execution_count": 13,
     "metadata": {},
     "output_type": "execute_result"
    }
   ],
   "source": [
    "1/3"
   ]
  },
  {
   "cell_type": "code",
   "execution_count": 14,
   "id": "331bfbd6",
   "metadata": {},
   "outputs": [
    {
     "data": {
      "text/plain": [
       "3"
      ]
     },
     "execution_count": 14,
     "metadata": {},
     "output_type": "execute_result"
    }
   ],
   "source": [
    "1+2"
   ]
  },
  {
   "cell_type": "code",
   "execution_count": 16,
   "id": "5336b28c",
   "metadata": {},
   "outputs": [],
   "source": [
    "# Python supports two way of programming\n",
    "\n",
    "# 1) scripting\n",
    "# 2) oops"
   ]
  },
  {
   "cell_type": "code",
   "execution_count": 17,
   "id": "1694c0c4",
   "metadata": {},
   "outputs": [],
   "source": [
    "# Modular coding is recquired to build enterprise applications."
   ]
  },
  {
   "cell_type": "code",
   "execution_count": 18,
   "id": "5f287ccc",
   "metadata": {},
   "outputs": [],
   "source": [
    "#Let consider i want to watch movies and movies are present in the hard disk. \n",
    "# so we will connect hard disk to our system and then the movies present in the hard disk will be loaded to RAM and from RAM the\n",
    "# data is processed by cpu and then we will see the action which is watching movie. so in this way we could able to watch movies finally."
   ]
  },
  {
   "cell_type": "code",
   "execution_count": null,
   "id": "c28eb2ba",
   "metadata": {},
   "outputs": [],
   "source": []
  },
  {
   "cell_type": "code",
   "execution_count": 9,
   "id": "633fe65e",
   "metadata": {},
   "outputs": [],
   "source": [
    "#my name is vsk\n",
    "#single line comments"
   ]
  },
  {
   "cell_type": "code",
   "execution_count": 10,
   "id": "eb4f22ef",
   "metadata": {},
   "outputs": [
    {
     "data": {
      "text/plain": [
       "'fhhjhjjddh\\n   bdldhbld\\n   dgldmhmhd'"
      ]
     },
     "execution_count": 10,
     "metadata": {},
     "output_type": "execute_result"
    }
   ],
   "source": [
    "\"\"\"fhhjhjjddh\n",
    "   bdldhbld\n",
    "   dgldmhmhd\"\"\"\n",
    "#multi line comments"
   ]
  },
  {
   "cell_type": "code",
   "execution_count": 20,
   "id": "02b5ba58",
   "metadata": {},
   "outputs": [],
   "source": [
    "a=10\n",
    "# when we assign some value to variable then variable will be created and variable will be stored in the RAM . \n",
    "# A reference with name 'a' will be created and whenever the variable 'a' is called it will look for the value of 10 . \n",
    "# variable is used to store data."
   ]
  },
  {
   "cell_type": "code",
   "execution_count": 12,
   "id": "7e516a2c",
   "metadata": {},
   "outputs": [
    {
     "data": {
      "text/plain": [
       "10"
      ]
     },
     "execution_count": 12,
     "metadata": {},
     "output_type": "execute_result"
    }
   ],
   "source": [
    "a"
   ]
  },
  {
   "cell_type": "code",
   "execution_count": 22,
   "id": "92d95f62",
   "metadata": {},
   "outputs": [
    {
     "data": {
      "text/plain": [
       "int"
      ]
     },
     "execution_count": 22,
     "metadata": {},
     "output_type": "execute_result"
    }
   ],
   "source": [
    "type(a)\n",
    "# type function will tell the type of the data the variable stores."
   ]
  },
  {
   "cell_type": "code",
   "execution_count": 23,
   "id": "3f74f8be",
   "metadata": {},
   "outputs": [
    {
     "data": {
      "text/plain": [
       "float"
      ]
     },
     "execution_count": 23,
     "metadata": {},
     "output_type": "execute_result"
    }
   ],
   "source": [
    "c=12.36\n",
    "type(c)"
   ]
  },
  {
   "cell_type": "code",
   "execution_count": 25,
   "id": "24a70003",
   "metadata": {},
   "outputs": [
    {
     "data": {
      "text/plain": [
       "complex"
      ]
     },
     "execution_count": 25,
     "metadata": {},
     "output_type": "execute_result"
    }
   ],
   "source": [
    "d=9+5j\n",
    "type(d)"
   ]
  },
  {
   "cell_type": "code",
   "execution_count": 32,
   "id": "74614933",
   "metadata": {},
   "outputs": [
    {
     "data": {
      "text/plain": [
       "bool"
      ]
     },
     "execution_count": 32,
     "metadata": {},
     "output_type": "execute_result"
    }
   ],
   "source": [
    "s=True\n",
    "type(s)"
   ]
  },
  {
   "cell_type": "code",
   "execution_count": 26,
   "id": "03cfdc36",
   "metadata": {},
   "outputs": [],
   "source": [
    "a='sudh'\n",
    "b=\"sudh\"\n"
   ]
  },
  {
   "cell_type": "code",
   "execution_count": 29,
   "id": "783cd96a",
   "metadata": {},
   "outputs": [
    {
     "data": {
      "text/plain": [
       "'sudh'"
      ]
     },
     "execution_count": 29,
     "metadata": {},
     "output_type": "execute_result"
    }
   ],
   "source": [
    "a"
   ]
  },
  {
   "cell_type": "code",
   "execution_count": 30,
   "id": "e89a19c8",
   "metadata": {},
   "outputs": [
    {
     "data": {
      "text/plain": [
       "'sudh'"
      ]
     },
     "execution_count": 30,
     "metadata": {},
     "output_type": "execute_result"
    }
   ],
   "source": [
    "b"
   ]
  },
  {
   "cell_type": "code",
   "execution_count": 31,
   "id": "1ca54240",
   "metadata": {},
   "outputs": [],
   "source": [
    "# Here both variable 'a' and 'b' holds the same value .Single quote and Double quote both are same.\n",
    "# But we get outout with single quote only everytime."
   ]
  },
  {
   "cell_type": "code",
   "execution_count": 14,
   "id": "b01cc50f",
   "metadata": {},
   "outputs": [],
   "source": [
    "b=\"sai krishna\""
   ]
  },
  {
   "cell_type": "code",
   "execution_count": 15,
   "id": "cda15c1a",
   "metadata": {},
   "outputs": [
    {
     "name": "stdout",
     "output_type": "stream",
     "text": [
      "sai krishna\n"
     ]
    }
   ],
   "source": [
    "print(b)"
   ]
  },
  {
   "cell_type": "code",
   "execution_count": 16,
   "id": "43e4d3e6",
   "metadata": {},
   "outputs": [],
   "source": [
    "a,b,c=10,20,30"
   ]
  },
  {
   "cell_type": "code",
   "execution_count": 17,
   "id": "1e48f557",
   "metadata": {},
   "outputs": [
    {
     "name": "stdout",
     "output_type": "stream",
     "text": [
      "30\n"
     ]
    }
   ],
   "source": [
    "print(c)"
   ]
  },
  {
   "cell_type": "code",
   "execution_count": 18,
   "id": "dff1ab41",
   "metadata": {},
   "outputs": [
    {
     "name": "stdout",
     "output_type": "stream",
     "text": [
      "10\n"
     ]
    }
   ],
   "source": [
    "print(a)"
   ]
  },
  {
   "cell_type": "code",
   "execution_count": 19,
   "id": "3b4943e9",
   "metadata": {},
   "outputs": [
    {
     "ename": "SyntaxError",
     "evalue": "invalid syntax (3354477639.py, line 1)",
     "output_type": "error",
     "traceback": [
      "\u001b[1;36m  Cell \u001b[1;32mIn[19], line 1\u001b[1;36m\u001b[0m\n\u001b[1;33m    a b c\u001b[0m\n\u001b[1;37m      ^\u001b[0m\n\u001b[1;31mSyntaxError\u001b[0m\u001b[1;31m:\u001b[0m invalid syntax\n"
     ]
    }
   ],
   "source": [
    "a b c\n"
   ]
  },
  {
   "cell_type": "code",
   "execution_count": 20,
   "id": "18690158",
   "metadata": {},
   "outputs": [
    {
     "name": "stdout",
     "output_type": "stream",
     "text": [
      "10 20 30\n"
     ]
    }
   ],
   "source": [
    "print(a,b,c)"
   ]
  },
  {
   "cell_type": "code",
   "execution_count": 21,
   "id": "428d6f11",
   "metadata": {},
   "outputs": [
    {
     "data": {
      "text/plain": [
       "(10, 20, 30)"
      ]
     },
     "execution_count": 21,
     "metadata": {},
     "output_type": "execute_result"
    }
   ],
   "source": [
    "a,b,c"
   ]
  },
  {
   "cell_type": "code",
   "execution_count": 22,
   "id": "6ccd233e",
   "metadata": {},
   "outputs": [],
   "source": [
    "s=True"
   ]
  },
  {
   "cell_type": "code",
   "execution_count": 23,
   "id": "ba3864d2",
   "metadata": {},
   "outputs": [
    {
     "data": {
      "text/plain": [
       "bool"
      ]
     },
     "execution_count": 23,
     "metadata": {},
     "output_type": "execute_result"
    }
   ],
   "source": [
    "type(s)"
   ]
  },
  {
   "cell_type": "code",
   "execution_count": 41,
   "id": "150100b1",
   "metadata": {},
   "outputs": [
    {
     "name": "stdout",
     "output_type": "stream",
     "text": [
      "4\n"
     ]
    }
   ],
   "source": [
    "# Internally True means 1 and False means 0.\n",
    "print(True + True + True + False + True)"
   ]
  },
  {
   "cell_type": "code",
   "execution_count": 25,
   "id": "0524b1d9",
   "metadata": {},
   "outputs": [
    {
     "name": "stdout",
     "output_type": "stream",
     "text": [
      "0\n"
     ]
    }
   ],
   "source": [
    "print(False-True+True)"
   ]
  },
  {
   "cell_type": "code",
   "execution_count": 26,
   "id": "b76314c7",
   "metadata": {},
   "outputs": [
    {
     "ename": "ZeroDivisionError",
     "evalue": "division by zero",
     "output_type": "error",
     "traceback": [
      "\u001b[1;31m---------------------------------------------------------------------------\u001b[0m",
      "\u001b[1;31mZeroDivisionError\u001b[0m                         Traceback (most recent call last)",
      "Cell \u001b[1;32mIn[26], line 1\u001b[0m\n\u001b[1;32m----> 1\u001b[0m \u001b[38;5;28mprint\u001b[39m(\u001b[38;5;28;01mTrue\u001b[39;00m\u001b[38;5;241m/\u001b[39m\u001b[38;5;28;01mFalse\u001b[39;00m)\n",
      "\u001b[1;31mZeroDivisionError\u001b[0m: division by zero"
     ]
    }
   ],
   "source": [
    "print(True/False)"
   ]
  },
  {
   "cell_type": "code",
   "execution_count": 34,
   "id": "bc48066e",
   "metadata": {},
   "outputs": [],
   "source": [
    "a=34+10j"
   ]
  },
  {
   "cell_type": "code",
   "execution_count": 35,
   "id": "c44a8364",
   "metadata": {},
   "outputs": [
    {
     "data": {
      "text/plain": [
       "complex"
      ]
     },
     "execution_count": 35,
     "metadata": {},
     "output_type": "execute_result"
    }
   ],
   "source": [
    "type(a)"
   ]
  },
  {
   "cell_type": "code",
   "execution_count": 36,
   "id": "73995817",
   "metadata": {},
   "outputs": [
    {
     "data": {
      "text/plain": [
       "(34+10j)"
      ]
     },
     "execution_count": 36,
     "metadata": {},
     "output_type": "execute_result"
    }
   ],
   "source": [
    "a"
   ]
  },
  {
   "cell_type": "code",
   "execution_count": 37,
   "id": "d484d764",
   "metadata": {},
   "outputs": [],
   "source": [
    "# Let consider i want to acess real part from the complex number so to check whether any possible inbuilt function exist or not \n",
    "# to acess real part of a complex number.\n",
    "\n",
    "# you have to write variablename and then dot and click on tab .Then u will see all the inbuilt functions possible.\n",
    "\n",
    "# a. now press tab\n",
    "# Here variable name is 'a' ."
   ]
  },
  {
   "cell_type": "code",
   "execution_count": 30,
   "id": "75bcd409",
   "metadata": {},
   "outputs": [
    {
     "data": {
      "text/plain": [
       "34.0"
      ]
     },
     "execution_count": 30,
     "metadata": {},
     "output_type": "execute_result"
    }
   ],
   "source": [
    "a.real"
   ]
  },
  {
   "cell_type": "code",
   "execution_count": 31,
   "id": "4c24639d",
   "metadata": {},
   "outputs": [
    {
     "ename": "AttributeError",
     "evalue": "'complex' object has no attribute 'img'",
     "output_type": "error",
     "traceback": [
      "\u001b[1;31m---------------------------------------------------------------------------\u001b[0m",
      "\u001b[1;31mAttributeError\u001b[0m                            Traceback (most recent call last)",
      "Cell \u001b[1;32mIn[31], line 1\u001b[0m\n\u001b[1;32m----> 1\u001b[0m a\u001b[38;5;241m.\u001b[39mimg\n",
      "\u001b[1;31mAttributeError\u001b[0m: 'complex' object has no attribute 'img'"
     ]
    }
   ],
   "source": [
    "a.img"
   ]
  },
  {
   "cell_type": "code",
   "execution_count": 32,
   "id": "3709e182",
   "metadata": {},
   "outputs": [
    {
     "data": {
      "text/plain": [
       "10.0"
      ]
     },
     "execution_count": 32,
     "metadata": {},
     "output_type": "execute_result"
    }
   ],
   "source": [
    "a.imag"
   ]
  },
  {
   "cell_type": "code",
   "execution_count": 39,
   "id": "806e0fd1",
   "metadata": {},
   "outputs": [],
   "source": [
    "# Let consider i want to know all the in-built methods present in a string.\n",
    "# a=\"sai\"\n",
    "# a. now press tab u will see ."
   ]
  },
  {
   "cell_type": "code",
   "execution_count": 33,
   "id": "939dca5e",
   "metadata": {},
   "outputs": [
    {
     "ename": "TypeError",
     "evalue": "unsupported operand type(s) for +: 'int' and 'str'",
     "output_type": "error",
     "traceback": [
      "\u001b[1;31m---------------------------------------------------------------------------\u001b[0m",
      "\u001b[1;31mTypeError\u001b[0m                                 Traceback (most recent call last)",
      "Cell \u001b[1;32mIn[33], line 1\u001b[0m\n\u001b[1;32m----> 1\u001b[0m \u001b[38;5;241m1\u001b[39m\u001b[38;5;241m+\u001b[39m\u001b[38;5;124m\"\u001b[39m\u001b[38;5;124msai \u001b[39m\u001b[38;5;124m\"\u001b[39m\n",
      "\u001b[1;31mTypeError\u001b[0m: unsupported operand type(s) for +: 'int' and 'str'"
     ]
    }
   ],
   "source": [
    "1+\"sai \""
   ]
  },
  {
   "cell_type": "code",
   "execution_count": 34,
   "id": "adb96f2d",
   "metadata": {},
   "outputs": [
    {
     "ename": "TypeError",
     "evalue": "unsupported operand type(s) for +: 'int' and 'str'",
     "output_type": "error",
     "traceback": [
      "\u001b[1;31m---------------------------------------------------------------------------\u001b[0m",
      "\u001b[1;31mTypeError\u001b[0m                                 Traceback (most recent call last)",
      "Cell \u001b[1;32mIn[34], line 1\u001b[0m\n\u001b[1;32m----> 1\u001b[0m \u001b[38;5;241m1\u001b[39m \u001b[38;5;241m+\u001b[39m \u001b[38;5;124m\"\u001b[39m\u001b[38;5;124msusdh\u001b[39m\u001b[38;5;124m\"\u001b[39m\n",
      "\u001b[1;31mTypeError\u001b[0m: unsupported operand type(s) for +: 'int' and 'str'"
     ]
    }
   ],
   "source": [
    "1 + \"susdh\""
   ]
  },
  {
   "cell_type": "code",
   "execution_count": 35,
   "id": "c6252bff",
   "metadata": {},
   "outputs": [
    {
     "data": {
      "text/plain": [
       "'1sai'"
      ]
     },
     "execution_count": 35,
     "metadata": {},
     "output_type": "execute_result"
    }
   ],
   "source": [
    "str(1)+\"sai\""
   ]
  },
  {
   "cell_type": "code",
   "execution_count": 36,
   "id": "199a2265",
   "metadata": {},
   "outputs": [
    {
     "data": {
      "text/plain": [
       "'1sai'"
      ]
     },
     "execution_count": 36,
     "metadata": {},
     "output_type": "execute_result"
    }
   ],
   "source": [
    "'1' + 'sai' "
   ]
  },
  {
   "cell_type": "code",
   "execution_count": 37,
   "id": "a75a2d7a",
   "metadata": {},
   "outputs": [
    {
     "data": {
      "text/plain": [
       "'saisaisai'"
      ]
     },
     "execution_count": 37,
     "metadata": {},
     "output_type": "execute_result"
    }
   ],
   "source": [
    "\"sai\"+ \"sai\" + \"sai\" "
   ]
  },
  {
   "cell_type": "code",
   "execution_count": 38,
   "id": "1a3706d9",
   "metadata": {},
   "outputs": [
    {
     "data": {
      "text/plain": [
       "'saisaisai'"
      ]
     },
     "execution_count": 38,
     "metadata": {},
     "output_type": "execute_result"
    }
   ],
   "source": [
    "\"sai\" *3 "
   ]
  },
  {
   "cell_type": "code",
   "execution_count": 39,
   "id": "d1012694",
   "metadata": {},
   "outputs": [
    {
     "name": "stdout",
     "output_type": "stream",
     "text": [
      "sai\n"
     ]
    }
   ],
   "source": [
    "a=input()"
   ]
  },
  {
   "cell_type": "code",
   "execution_count": 40,
   "id": "8d11c85f",
   "metadata": {},
   "outputs": [
    {
     "data": {
      "text/plain": [
       "'sai'"
      ]
     },
     "execution_count": 40,
     "metadata": {},
     "output_type": "execute_result"
    }
   ],
   "source": [
    "a"
   ]
  },
  {
   "cell_type": "code",
   "execution_count": 41,
   "id": "c7cad6a3",
   "metadata": {},
   "outputs": [
    {
     "name": "stdout",
     "output_type": "stream",
     "text": [
      "dssla\n"
     ]
    }
   ],
   "source": [
    "a=input()"
   ]
  },
  {
   "cell_type": "code",
   "execution_count": 42,
   "id": "3e2291b7",
   "metadata": {},
   "outputs": [
    {
     "data": {
      "text/plain": [
       "str"
      ]
     },
     "execution_count": 42,
     "metadata": {},
     "output_type": "execute_result"
    }
   ],
   "source": [
    "type(a)"
   ]
  },
  {
   "cell_type": "code",
   "execution_count": 47,
   "id": "e8bae03e",
   "metadata": {},
   "outputs": [
    {
     "name": "stdout",
     "output_type": "stream",
     "text": [
      "45\n"
     ]
    }
   ],
   "source": [
    "a=input()\n",
    "# By default whatever data we are going to pass through input function it will always try to \n",
    "# convert everything into string format. "
   ]
  },
  {
   "cell_type": "code",
   "execution_count": 49,
   "id": "87a01551",
   "metadata": {},
   "outputs": [],
   "source": [
    "b=int(a)"
   ]
  },
  {
   "cell_type": "code",
   "execution_count": 46,
   "id": "866ce308",
   "metadata": {},
   "outputs": [
    {
     "name": "stdout",
     "output_type": "stream",
     "text": [
      "45\n"
     ]
    }
   ],
   "source": [
    "print(a)"
   ]
  },
  {
   "cell_type": "code",
   "execution_count": 53,
   "id": "2c3e17a0",
   "metadata": {},
   "outputs": [],
   "source": [
    "a,b,c =10,20,30"
   ]
  },
  {
   "cell_type": "code",
   "execution_count": 54,
   "id": "8fbaac17",
   "metadata": {},
   "outputs": [
    {
     "name": "stdout",
     "output_type": "stream",
     "text": [
      "10 20 30\n"
     ]
    }
   ],
   "source": [
    "print(a,b,c)"
   ]
  },
  {
   "cell_type": "code",
   "execution_count": 55,
   "id": "ac387ee7",
   "metadata": {},
   "outputs": [],
   "source": [
    "o= (a+b)/c"
   ]
  },
  {
   "cell_type": "code",
   "execution_count": 56,
   "id": "a042b594",
   "metadata": {},
   "outputs": [
    {
     "name": "stdout",
     "output_type": "stream",
     "text": [
      "1.0\n"
     ]
    }
   ],
   "source": [
    "print(o)"
   ]
  },
  {
   "cell_type": "code",
   "execution_count": 57,
   "id": "780faa5c",
   "metadata": {},
   "outputs": [],
   "source": [
    "b=3+4j"
   ]
  },
  {
   "cell_type": "code",
   "execution_count": 58,
   "id": "03e411da",
   "metadata": {},
   "outputs": [],
   "source": [
    "o1=o+3+4j"
   ]
  },
  {
   "cell_type": "code",
   "execution_count": 59,
   "id": "e5bcd87e",
   "metadata": {},
   "outputs": [
    {
     "name": "stdout",
     "output_type": "stream",
     "text": [
      "(4+4j)\n"
     ]
    }
   ],
   "source": [
    "print(o1)"
   ]
  },
  {
   "cell_type": "code",
   "execution_count": 60,
   "id": "3323e9cf",
   "metadata": {},
   "outputs": [
    {
     "ename": "TypeError",
     "evalue": "unsupported operand type(s) for +: 'complex' and 'str'",
     "output_type": "error",
     "traceback": [
      "\u001b[1;31m---------------------------------------------------------------------------\u001b[0m",
      "\u001b[1;31mTypeError\u001b[0m                                 Traceback (most recent call last)",
      "Cell \u001b[1;32mIn[60], line 1\u001b[0m\n\u001b[1;32m----> 1\u001b[0m o1\u001b[38;5;241m=\u001b[39mo1 \u001b[38;5;241m+\u001b[39m \u001b[38;5;124m\"\u001b[39m\u001b[38;5;124msai krishna\u001b[39m\u001b[38;5;124m\"\u001b[39m\n",
      "\u001b[1;31mTypeError\u001b[0m: unsupported operand type(s) for +: 'complex' and 'str'"
     ]
    }
   ],
   "source": [
    "o1=o1 + \"sai krishna\""
   ]
  },
  {
   "cell_type": "code",
   "execution_count": 54,
   "id": "8018b4fe",
   "metadata": {},
   "outputs": [
    {
     "name": "stdout",
     "output_type": "stream",
     "text": [
      "45\n"
     ]
    }
   ],
   "source": [
    "a=input()\n",
    "# for a user input we use input function."
   ]
  },
  {
   "cell_type": "code",
   "execution_count": 55,
   "id": "4e48c935",
   "metadata": {},
   "outputs": [],
   "source": [
    "b=int(a)"
   ]
  },
  {
   "cell_type": "code",
   "execution_count": 63,
   "id": "1e907595",
   "metadata": {},
   "outputs": [
    {
     "name": "stdout",
     "output_type": "stream",
     "text": [
      "Enter a number 12\n"
     ]
    }
   ],
   "source": [
    "a=int(input(\"Enter a number \"))"
   ]
  },
  {
   "cell_type": "code",
   "execution_count": 64,
   "id": "296571d8",
   "metadata": {},
   "outputs": [
    {
     "name": "stdout",
     "output_type": "stream",
     "text": [
      "12\n"
     ]
    }
   ],
   "source": [
    "print(a)"
   ]
  },
  {
   "cell_type": "code",
   "execution_count": 65,
   "id": "ad1a14ba",
   "metadata": {},
   "outputs": [
    {
     "data": {
      "text/plain": [
       "int"
      ]
     },
     "execution_count": 65,
     "metadata": {},
     "output_type": "execute_result"
    }
   ],
   "source": [
    "type(a)"
   ]
  },
  {
   "cell_type": "code",
   "execution_count": 66,
   "id": "a18b92c9",
   "metadata": {},
   "outputs": [
    {
     "name": "stdout",
     "output_type": "stream",
     "text": [
      "Enter a number30\n",
      "less than 34\n"
     ]
    }
   ],
   "source": [
    "a=int(input(\"Enter a number\"))\n",
    "if a<34 :\n",
    "    print(\"less than 34\")\n",
    "elif a<100:\n",
    "    print(\"less than 100\")\n",
    "else :\n",
    "    print(\"more than 100\")"
   ]
  },
  {
   "cell_type": "code",
   "execution_count": 67,
   "id": "7d0d2d5a",
   "metadata": {},
   "outputs": [
    {
     "name": "stdout",
     "output_type": "stream",
     "text": [
      "Enter first namesai\n",
      "Enter last namekrishna\n",
      "correct name\n"
     ]
    }
   ],
   "source": [
    "firstname=input(\"Enter first name\")\n",
    "lastname=input(\"Enter last name\")\n",
    "if(firstname== \"sai\" and lastname==\"krishna\"):\n",
    "    print(\"correct name\")\n",
    "else:\n",
    "    prnt(\"wrong name\")\n"
   ]
  },
  {
   "cell_type": "code",
   "execution_count": 68,
   "id": "0306a20c",
   "metadata": {},
   "outputs": [
    {
     "name": "stdout",
     "output_type": "stream",
     "text": [
      "0\n",
      "5\n",
      "10\n",
      "15\n",
      "20\n",
      "25\n",
      "30\n",
      "35\n",
      "40\n",
      "45\n",
      "50\n",
      "55\n",
      "60\n",
      "65\n",
      "70\n",
      "75\n",
      "80\n",
      "85\n",
      "90\n",
      "95\n"
     ]
    }
   ],
   "source": [
    "#while loop\n",
    "initial =0\n",
    "final =100\n",
    "while initial < final :\n",
    "    print(initial)\n",
    "    initial =initial + 5\n",
    "    if initial==100:\n",
    "        break"
   ]
  },
  {
   "cell_type": "code",
   "execution_count": 69,
   "id": "6b98803b",
   "metadata": {},
   "outputs": [],
   "source": [
    "s=\"krishna\" "
   ]
  },
  {
   "cell_type": "code",
   "execution_count": 70,
   "id": "98505c78",
   "metadata": {},
   "outputs": [
    {
     "data": {
      "text/plain": [
       "'s'"
      ]
     },
     "execution_count": 70,
     "metadata": {},
     "output_type": "execute_result"
    }
   ],
   "source": [
    "s[3]"
   ]
  },
  {
   "cell_type": "code",
   "execution_count": 71,
   "id": "fde35c15",
   "metadata": {},
   "outputs": [
    {
     "ename": "IndexError",
     "evalue": "string index out of range",
     "output_type": "error",
     "traceback": [
      "\u001b[1;31m---------------------------------------------------------------------------\u001b[0m",
      "\u001b[1;31mIndexError\u001b[0m                                Traceback (most recent call last)",
      "Cell \u001b[1;32mIn[71], line 1\u001b[0m\n\u001b[1;32m----> 1\u001b[0m s[\u001b[38;5;241m12\u001b[39m]\n",
      "\u001b[1;31mIndexError\u001b[0m: string index out of range"
     ]
    }
   ],
   "source": [
    "s[12]"
   ]
  },
  {
   "cell_type": "code",
   "execution_count": 79,
   "id": "f570c1a9",
   "metadata": {},
   "outputs": [
    {
     "name": "stdout",
     "output_type": "stream",
     "text": [
      "+ \r\n",
      "+ + \r\n",
      "+ + + \r\n",
      "+ + + + \r\n",
      "+ + + + + \r\n",
      "+ + + + + + \r\n",
      "+ + + + + + + \r\n"
     ]
    }
   ],
   "source": [
    "n=7\n",
    "for i in range(n):\n",
    "    for j in range(i+1):\n",
    "        print(\"+ \",end=\"\")\n",
    "    print(\"\\r\")\n",
    "# In Python, \\r stands for the carriage return character. It does reset the position of the cursor\n",
    "# to the start of the current line."
   ]
  },
  {
   "cell_type": "code",
   "execution_count": 80,
   "id": "4ad72cf0",
   "metadata": {},
   "outputs": [
    {
     "name": "stdout",
     "output_type": "stream",
     "text": [
      "* * * * * * * * * * * * * \r\n",
      "  * * * * * * * * * * * \r\n",
      "    * * * * * * * * * \r\n",
      "      * * * * * * * \r\n",
      "        * * * * * \r\n",
      "          * * * \r\n",
      "            * \r\n"
     ]
    }
   ],
   "source": [
    "n=7\n",
    "\n",
    "for i in range(n):\n",
    "    for k in range(i):\n",
    "        print(\"  \",end=\"\")\n",
    "    for j in range(2*(n-i)-1):\n",
    "        print(\"*\",end=\" \")\n",
    "    print(\"\\r\")"
   ]
  },
  {
   "cell_type": "code",
   "execution_count": null,
   "id": "402197e6",
   "metadata": {},
   "outputs": [],
   "source": [
    "#using while loop\n",
    "n=7\n",
    "i=0\n",
    "while i<n:\n",
    "    print(' ' * (n-i-1) + \"* \"* (i+1))\n",
    "    i+=1\n",
    "    "
   ]
  },
  {
   "cell_type": "code",
   "execution_count": null,
   "id": "205ab61c",
   "metadata": {},
   "outputs": [],
   "source": [
    "#using for loop\n",
    "a=7\n",
    "for i in range(a):\n",
    "    for j in range(a-i-1):\n",
    "        print(' ',end=\"\")\n",
    "    for k in range(i+1):\n",
    "        print(\"* \",end=\"\")\n",
    "    print(\"\\r\")\n",
    "    "
   ]
  },
  {
   "cell_type": "code",
   "execution_count": null,
   "id": "c8dc477f",
   "metadata": {},
   "outputs": [],
   "source": [
    "l=list()\n",
    "#list can hold hoomogeneous or heterogeneous type of data\n",
    "name=\"sai\"\n",
    "phone=9010\n",
    "address=\"vizag\"\n",
    "\n",
    "#we can hold all these data in a single list datastructure.\n",
    "#using list in a single variable we can hold all the data"
   ]
  },
  {
   "cell_type": "code",
   "execution_count": 1,
   "id": "7b3980fe",
   "metadata": {},
   "outputs": [],
   "source": [
    "l=[\"sai\",9010,\"vizag\"]\n"
   ]
  },
  {
   "cell_type": "code",
   "execution_count": 2,
   "id": "2ff33317",
   "metadata": {},
   "outputs": [
    {
     "data": {
      "text/plain": [
       "['sai', 9010, 'vizag']"
      ]
     },
     "execution_count": 2,
     "metadata": {},
     "output_type": "execute_result"
    }
   ],
   "source": [
    "l"
   ]
  },
  {
   "cell_type": "code",
   "execution_count": 3,
   "id": "285fb664",
   "metadata": {},
   "outputs": [
    {
     "data": {
      "text/plain": [
       "'sai'"
      ]
     },
     "execution_count": 3,
     "metadata": {},
     "output_type": "execute_result"
    }
   ],
   "source": [
    "l[0]"
   ]
  },
  {
   "cell_type": "code",
   "execution_count": 4,
   "id": "102b4bff",
   "metadata": {},
   "outputs": [
    {
     "data": {
      "text/plain": [
       "9010"
      ]
     },
     "execution_count": 4,
     "metadata": {},
     "output_type": "execute_result"
    }
   ],
   "source": [
    "l[1]"
   ]
  },
  {
   "cell_type": "code",
   "execution_count": 5,
   "id": "6d63d46f",
   "metadata": {},
   "outputs": [
    {
     "data": {
      "text/plain": [
       "'vizag'"
      ]
     },
     "execution_count": 5,
     "metadata": {},
     "output_type": "execute_result"
    }
   ],
   "source": [
    "l[2]"
   ]
  },
  {
   "cell_type": "code",
   "execution_count": 6,
   "id": "ad3f51a6",
   "metadata": {},
   "outputs": [
    {
     "data": {
      "text/plain": [
       "list"
      ]
     },
     "execution_count": 6,
     "metadata": {},
     "output_type": "execute_result"
    }
   ],
   "source": [
    "type(l)"
   ]
  },
  {
   "cell_type": "code",
   "execution_count": 7,
   "id": "0ac864fe",
   "metadata": {},
   "outputs": [],
   "source": [
    "v1=[]\n",
    "# empty list"
   ]
  },
  {
   "cell_type": "code",
   "execution_count": 8,
   "id": "89703feb",
   "metadata": {},
   "outputs": [
    {
     "data": {
      "text/plain": [
       "list"
      ]
     },
     "execution_count": 8,
     "metadata": {},
     "output_type": "execute_result"
    }
   ],
   "source": [
    "type(v1)"
   ]
  },
  {
   "cell_type": "code",
   "execution_count": 9,
   "id": "ec9a771a",
   "metadata": {},
   "outputs": [
    {
     "name": "stdout",
     "output_type": "stream",
     "text": [
      "[]\n"
     ]
    }
   ],
   "source": [
    "d1=list()\n",
    "print(d1)\n",
    "#we get empty list"
   ]
  },
  {
   "cell_type": "code",
   "execution_count": null,
   "id": "1f954621",
   "metadata": {},
   "outputs": [],
   "source": [
    "# we can hold list,normal numbers,decimal numbers,complex number,strings,boolean,etc..   inside list\n",
    "l=[\"sai\",9010534,\"vizag\",3+4j,4.5666,True,[3,4,5,6]]\n",
    "#list always store the data in the using indexes "
   ]
  },
  {
   "cell_type": "code",
   "execution_count": null,
   "id": "09f29746",
   "metadata": {},
   "outputs": [],
   "source": [
    "l"
   ]
  },
  {
   "cell_type": "code",
   "execution_count": null,
   "id": "4442f2c0",
   "metadata": {},
   "outputs": [],
   "source": [
    "for i in l:\n",
    "    print(type(i))"
   ]
  },
  {
   "cell_type": "code",
   "execution_count": null,
   "id": "c89d1550",
   "metadata": {},
   "outputs": [],
   "source": [
    "a=[\"sai\",9010534,\"vizag\",3+4j,4.5666,True,[3,4,5,\"krishna\"]]\n"
   ]
  },
  {
   "cell_type": "code",
   "execution_count": null,
   "id": "f55becb6",
   "metadata": {},
   "outputs": [],
   "source": [
    "a"
   ]
  },
  {
   "cell_type": "code",
   "execution_count": null,
   "id": "07ad3952",
   "metadata": {},
   "outputs": [],
   "source": [
    "#in this way we can count the integers present in the list.\n",
    "for i in a :\n",
    "    if type(i) == list :\n",
    "        n=0\n",
    "        for k in i :\n",
    "            if type(k)== int:\n",
    "                n=n+k\n",
    "        print(n)\n",
    "                "
   ]
  },
  {
   "cell_type": "code",
   "execution_count": null,
   "id": "b72e6c52",
   "metadata": {},
   "outputs": [],
   "source": [
    "a=[\"sai\",9010534,\"vizag\",3+4j,4.5666,True,[3,4,5,\"krishna\"]]"
   ]
  },
  {
   "cell_type": "code",
   "execution_count": null,
   "id": "89e9ffc7",
   "metadata": {},
   "outputs": [],
   "source": [
    "a[0:5]"
   ]
  },
  {
   "cell_type": "code",
   "execution_count": null,
   "id": "f85a353b",
   "metadata": {},
   "outputs": [],
   "source": [
    "a[0]"
   ]
  },
  {
   "cell_type": "code",
   "execution_count": null,
   "id": "e089f29d",
   "metadata": {},
   "outputs": [],
   "source": [
    "a[8:3]\n",
    "#by default the step will be 1"
   ]
  },
  {
   "cell_type": "code",
   "execution_count": null,
   "id": "2c39fe50",
   "metadata": {},
   "outputs": [],
   "source": [
    "a[8:3:1]\n",
    "#here the index 8 is not there but we will not get any error because here we are talking about the range not about the particular i\n",
    "# indexes "
   ]
  },
  {
   "cell_type": "code",
   "execution_count": null,
   "id": "7c697151",
   "metadata": {},
   "outputs": [],
   "source": [
    "a[80:3:-1]"
   ]
  },
  {
   "cell_type": "code",
   "execution_count": null,
   "id": "082c7f3b",
   "metadata": {},
   "outputs": [],
   "source": [
    "\"\"\" \n",
    "whatever we can do in string \n",
    "whatever we can do in list\n",
    "whatever we can do in range\n",
    "\n",
    "interms of traversal of data,all are same\n",
    "\n",
    "\"\"\""
   ]
  },
  {
   "cell_type": "code",
   "execution_count": null,
   "id": "26539c8e",
   "metadata": {},
   "outputs": [],
   "source": [
    "list(range(50))"
   ]
  },
  {
   "cell_type": "code",
   "execution_count": null,
   "id": "2fc2bc49",
   "metadata": {},
   "outputs": [],
   "source": [
    "list(range(10))"
   ]
  },
  {
   "cell_type": "code",
   "execution_count": null,
   "id": "e1d3a1e1",
   "metadata": {},
   "outputs": [],
   "source": [
    "l=[1,2,3,3,44,4,44,4,4,4,4,4]"
   ]
  },
  {
   "cell_type": "code",
   "execution_count": null,
   "id": "87a421b2",
   "metadata": {},
   "outputs": [],
   "source": [
    "len(l)\n",
    "#used to find the length of list"
   ]
  },
  {
   "cell_type": "code",
   "execution_count": null,
   "id": "2f38f2f4",
   "metadata": {},
   "outputs": [],
   "source": [
    "print(\"kri\\nshna\")"
   ]
  },
  {
   "cell_type": "code",
   "execution_count": null,
   "id": "f17f0e94",
   "metadata": {},
   "outputs": [],
   "source": [
    "print(\"kri\\rshna\")"
   ]
  },
  {
   "cell_type": "markdown",
   "id": "b4d84d46",
   "metadata": {},
   "source": [
    "# 8 th video notes "
   ]
  },
  {
   "cell_type": "code",
   "execution_count": null,
   "id": "8a825f80",
   "metadata": {},
   "outputs": [],
   "source": [
    "\"\"\"\n",
    "String can be create in two ways\n",
    "f=\"sai\"\n",
    "g='sai'\n",
    "\n",
    "\"\"\""
   ]
  },
  {
   "cell_type": "code",
   "execution_count": null,
   "id": "8d34acf4",
   "metadata": {},
   "outputs": [],
   "source": [
    "s=\"sai krishna is learning full stack data science from i neuron that's why he is so serious\"\n",
    "#string is enclosed between double quotes and we can use single quote in the middle\n",
    "#this works fine because in between double quotes we are using single quote so we don't get any error"
   ]
  },
  {
   "cell_type": "code",
   "execution_count": null,
   "id": "69920927",
   "metadata": {},
   "outputs": [],
   "source": [
    "s=\"sai krishna is learning full stack data science from i neuron that\"s why he is so serious\"\n",
    "#string is enclosed between double quotes and we can't use double  quote in the middle again .\n",
    "# here we get error because double quotes are used again in between the string again."
   ]
  },
  {
   "cell_type": "code",
   "execution_count": null,
   "id": "573864b0",
   "metadata": {},
   "outputs": [],
   "source": [
    "s='sai krishna is learning full stack data science from i neuron that\"s why he is so serious'\n",
    "#string is enclosed between single quotes and we can use double quote in the middle\n",
    "#this also woeks fine because in between single quotes we have used double quote"
   ]
  },
  {
   "cell_type": "code",
   "execution_count": null,
   "id": "c00dbfa5",
   "metadata": {},
   "outputs": [],
   "source": [
    "# if we use single quotes at the edges then we should use doule quotes in between\n",
    "# if we use double quotes at the edges then we should use single quotes in between"
   ]
  },
  {
   "cell_type": "code",
   "execution_count": 28,
   "id": "7bd37f16",
   "metadata": {},
   "outputs": [],
   "source": [
    "s=\"sai krishna is good person\"\n",
    "# when the variable s is created,indexes will be created internally for each character and a reference s is also created.\n",
    "# Indexing starts from zero.\n",
    "# Each character of a string can be acessed using index.\n",
    "# from forward direction indexing starts from zero like 0,1,2,3,4,5,6,..\n",
    "# from backward direction indexing starts from -1 like -1,-2,-3,-4,-5,-6,..."
   ]
  },
  {
   "cell_type": "code",
   "execution_count": 29,
   "id": "8c818e4a",
   "metadata": {},
   "outputs": [
    {
     "data": {
      "text/plain": [
       "'s'"
      ]
     },
     "execution_count": 29,
     "metadata": {},
     "output_type": "execute_result"
    }
   ],
   "source": [
    "s[0]"
   ]
  },
  {
   "cell_type": "code",
   "execution_count": 30,
   "id": "a7bda68d",
   "metadata": {},
   "outputs": [
    {
     "data": {
      "text/plain": [
       "'n'"
      ]
     },
     "execution_count": 30,
     "metadata": {},
     "output_type": "execute_result"
    }
   ],
   "source": [
    "s[-1]"
   ]
  },
  {
   "cell_type": "code",
   "execution_count": 31,
   "id": "1af4b227",
   "metadata": {},
   "outputs": [
    {
     "data": {
      "text/plain": [
       "'sai k'"
      ]
     },
     "execution_count": 31,
     "metadata": {},
     "output_type": "execute_result"
    }
   ],
   "source": [
    "s[0:5]\n",
    "# starting from index zero to till index 4 . Imdex 5 is excluded."
   ]
  },
  {
   "cell_type": "code",
   "execution_count": 32,
   "id": "e7fc5947",
   "metadata": {},
   "outputs": [
    {
     "ename": "IndexError",
     "evalue": "string index out of range",
     "output_type": "error",
     "traceback": [
      "\u001b[1;31m---------------------------------------------------------------------------\u001b[0m",
      "\u001b[1;31mIndexError\u001b[0m                                Traceback (most recent call last)",
      "Cell \u001b[1;32mIn[32], line 1\u001b[0m\n\u001b[1;32m----> 1\u001b[0m s[\u001b[38;5;241m100\u001b[39m]\n",
      "\u001b[1;31mIndexError\u001b[0m: string index out of range"
     ]
    }
   ],
   "source": [
    "s[100]\n",
    "# gives error because index 100 is not there for this string."
   ]
  },
  {
   "cell_type": "code",
   "execution_count": 33,
   "id": "58c147fb",
   "metadata": {},
   "outputs": [
    {
     "data": {
      "text/plain": [
       "'sai krishna is good person'"
      ]
     },
     "execution_count": 33,
     "metadata": {},
     "output_type": "execute_result"
    }
   ],
   "source": [
    "s[0:100]\n",
    "# everyone think this gives error but it will not give error.\n",
    "# Incase of ranges we are not going to get the error."
   ]
  },
  {
   "cell_type": "code",
   "execution_count": 34,
   "id": "b25a5c1e",
   "metadata": {},
   "outputs": [
    {
     "ename": "IndexError",
     "evalue": "string index out of range",
     "output_type": "error",
     "traceback": [
      "\u001b[1;31m---------------------------------------------------------------------------\u001b[0m",
      "\u001b[1;31mIndexError\u001b[0m                                Traceback (most recent call last)",
      "Cell \u001b[1;32mIn[34], line 1\u001b[0m\n\u001b[1;32m----> 1\u001b[0m s[\u001b[38;5;241m-\u001b[39m\u001b[38;5;241m100\u001b[39m]\n",
      "\u001b[1;31mIndexError\u001b[0m: string index out of range"
     ]
    }
   ],
   "source": [
    "s[-100]"
   ]
  },
  {
   "cell_type": "code",
   "execution_count": 38,
   "id": "306dab88",
   "metadata": {},
   "outputs": [
    {
     "data": {
      "text/plain": [
       "'sai krishna is good person'"
      ]
     },
     "execution_count": 38,
     "metadata": {},
     "output_type": "execute_result"
    }
   ],
   "source": [
    "s[::]\n",
    "# by default starting index is zero \n",
    "# by default ending index is taken as length of the string .\n",
    "# by default step size is 1"
   ]
  },
  {
   "cell_type": "code",
   "execution_count": 22,
   "id": "9be0aa65",
   "metadata": {},
   "outputs": [
    {
     "data": {
      "text/plain": [
       "''"
      ]
     },
     "execution_count": 22,
     "metadata": {},
     "output_type": "execute_result"
    }
   ],
   "source": [
    "s[-1:-100]"
   ]
  },
  {
   "cell_type": "code",
   "execution_count": 36,
   "id": "139fb49d",
   "metadata": {},
   "outputs": [
    {
     "data": {
      "text/plain": [
       "'s'"
      ]
     },
     "execution_count": 36,
     "metadata": {},
     "output_type": "execute_result"
    }
   ],
   "source": [
    "s[0:-100:-1]"
   ]
  },
  {
   "cell_type": "code",
   "execution_count": 23,
   "id": "832497d1",
   "metadata": {},
   "outputs": [
    {
     "data": {
      "text/plain": [
       "'sai krishna is good perso'"
      ]
     },
     "execution_count": 23,
     "metadata": {},
     "output_type": "execute_result"
    }
   ],
   "source": [
    "s[-100:-1]"
   ]
  },
  {
   "cell_type": "code",
   "execution_count": 24,
   "id": "66efb5c8",
   "metadata": {},
   "outputs": [
    {
     "data": {
      "text/plain": [
       "'nosrep doog si anhsirk ias'"
      ]
     },
     "execution_count": 24,
     "metadata": {},
     "output_type": "execute_result"
    }
   ],
   "source": [
    "s[::-1]\n",
    "# this will reverse the string s."
   ]
  },
  {
   "cell_type": "code",
   "execution_count": 40,
   "id": "5613258d",
   "metadata": {},
   "outputs": [
    {
     "data": {
      "text/plain": [
       "'nosrep doog si anhsirk ias'"
      ]
     },
     "execution_count": 40,
     "metadata": {},
     "output_type": "execute_result"
    }
   ],
   "source": [
    "s[-1::-1]\n",
    "# also this will reverse the string."
   ]
  },
  {
   "cell_type": "code",
   "execution_count": 37,
   "id": "53dc2594",
   "metadata": {},
   "outputs": [
    {
     "data": {
      "text/plain": [
       "'nosrep doog si anhsirk '"
      ]
     },
     "execution_count": 37,
     "metadata": {},
     "output_type": "execute_result"
    }
   ],
   "source": [
    "s[-1:2:-1]\n",
    "#if you want to move backward then step size should be negative \n",
    "#if you want to move forward then step size should be positive\n",
    "\n",
    "\n",
    "# First one is starting index\n",
    "# Second one is ending index where ending index is excluded\n",
    "# Third one is the step size."
   ]
  },
  {
   "cell_type": "code",
   "execution_count": 26,
   "id": "d9ce06a8",
   "metadata": {},
   "outputs": [
    {
     "data": {
      "text/plain": [
       "''"
      ]
     },
     "execution_count": 26,
     "metadata": {},
     "output_type": "execute_result"
    }
   ],
   "source": [
    "s[-1:2:1]\n"
   ]
  },
  {
   "cell_type": "code",
   "execution_count": 44,
   "id": "583d5e01",
   "metadata": {},
   "outputs": [],
   "source": [
    "a=\"i am working with ineuron\""
   ]
  },
  {
   "cell_type": "code",
   "execution_count": 45,
   "id": "c2f8d067",
   "metadata": {},
   "outputs": [
    {
     "data": {
      "text/plain": [
       "'eni htiw gnikro'"
      ]
     },
     "execution_count": 45,
     "metadata": {},
     "output_type": "execute_result"
    }
   ],
   "source": [
    "a[-5:5:-1]"
   ]
  },
  {
   "cell_type": "code",
   "execution_count": 27,
   "id": "1dfed275",
   "metadata": {},
   "outputs": [],
   "source": [
    "# By default jump size is 1."
   ]
  },
  {
   "cell_type": "code",
   "execution_count": null,
   "id": "ced1959b",
   "metadata": {},
   "outputs": [],
   "source": [
    "for i in s:\n",
    "    print(i)"
   ]
  },
  {
   "cell_type": "code",
   "execution_count": null,
   "id": "7a4defe3",
   "metadata": {},
   "outputs": [],
   "source": [
    "len(s)"
   ]
  },
  {
   "cell_type": "code",
   "execution_count": null,
   "id": "e2d296bc",
   "metadata": {},
   "outputs": [],
   "source": [
    "for i in range(len(s)):\n",
    "    print(s[i])"
   ]
  },
  {
   "cell_type": "code",
   "execution_count": null,
   "id": "500f8db0",
   "metadata": {},
   "outputs": [],
   "source": [
    "s=\"saikrisshna\""
   ]
  },
  {
   "cell_type": "code",
   "execution_count": null,
   "id": "82c38b23",
   "metadata": {},
   "outputs": [],
   "source": [
    "s[0]=\"t\"\n",
    "\"\"\"\n",
    "Strings are immutable objects means at any location you won't be able to replace one character with any other character.\n",
    "\n",
    "\"\"\""
   ]
  },
  {
   "cell_type": "code",
   "execution_count": null,
   "id": "b7b9a050",
   "metadata": {},
   "outputs": [],
   "source": [
    "g=[\"sai\",23,\"vizag\"]\n"
   ]
  },
  {
   "cell_type": "code",
   "execution_count": null,
   "id": "78f408d0",
   "metadata": {},
   "outputs": [],
   "source": [
    "g[0]=\"ganesh\""
   ]
  },
  {
   "cell_type": "code",
   "execution_count": null,
   "id": "eae8b98c",
   "metadata": {},
   "outputs": [],
   "source": [
    "g"
   ]
  },
  {
   "cell_type": "code",
   "execution_count": null,
   "id": "ffdd891d",
   "metadata": {},
   "outputs": [],
   "source": [
    "# lists are mutable objects means we can replace one data with other data"
   ]
  },
  {
   "cell_type": "code",
   "execution_count": null,
   "id": "ded169f4",
   "metadata": {},
   "outputs": [],
   "source": [
    "\"sai \"+\"krishna\""
   ]
  },
  {
   "cell_type": "code",
   "execution_count": null,
   "id": "22374642",
   "metadata": {},
   "outputs": [],
   "source": [
    "# plus acts as concatenation in between strings."
   ]
  },
  {
   "cell_type": "code",
   "execution_count": null,
   "id": "c98c9a0c",
   "metadata": {},
   "outputs": [],
   "source": [
    "\"sudh\"+[\"krishna\"]\n",
    "# we get error here because both are of different type.one is string and other was list."
   ]
  },
  {
   "cell_type": "code",
   "execution_count": null,
   "id": "76259da4",
   "metadata": {},
   "outputs": [],
   "source": [
    "\"sai\"+\"3\""
   ]
  },
  {
   "cell_type": "code",
   "execution_count": null,
   "id": "e3df761e",
   "metadata": {},
   "outputs": [],
   "source": [
    "s=\"sai krishna is a good boy\""
   ]
  },
  {
   "cell_type": "code",
   "execution_count": null,
   "id": "8bf6ca8c",
   "metadata": {},
   "outputs": [],
   "source": [
    "# if you want to know the inbuilt functions in the string then click the string variable name and \n",
    "#then enter dot and then press tab you will see all the inbuilt functions present in that string.\n",
    "# string variable name.and then press tab button\n",
    "#s. and then press tab"
   ]
  },
  {
   "cell_type": "code",
   "execution_count": 46,
   "id": "80817e77",
   "metadata": {},
   "outputs": [],
   "source": [
    "m=\"my name is ganesh\" "
   ]
  },
  {
   "cell_type": "code",
   "execution_count": 47,
   "id": "8db8d117",
   "metadata": {},
   "outputs": [
    {
     "data": {
      "text/plain": [
       "4"
      ]
     },
     "execution_count": 47,
     "metadata": {},
     "output_type": "execute_result"
    }
   ],
   "source": [
    "m.find(\"a\")"
   ]
  },
  {
   "cell_type": "code",
   "execution_count": null,
   "id": "f30eef95",
   "metadata": {},
   "outputs": [],
   "source": [
    "# find function looks for first occurance of the substring in the actual string.\n",
    "#return the index of first occurence\n",
    "#if the substring is not present in that string then we get return as -1 means there is no match.\n"
   ]
  },
  {
   "cell_type": "code",
   "execution_count": null,
   "id": "267cd999",
   "metadata": {},
   "outputs": [],
   "source": [
    "m.find(\"mn\")"
   ]
  },
  {
   "cell_type": "code",
   "execution_count": null,
   "id": "f9af3a00",
   "metadata": {},
   "outputs": [],
   "source": [
    "# -1 means this substring is not available in the actual string."
   ]
  },
  {
   "cell_type": "code",
   "execution_count": null,
   "id": "eaffed23",
   "metadata": {},
   "outputs": [],
   "source": [
    "m.find(\"name\")"
   ]
  },
  {
   "cell_type": "code",
   "execution_count": null,
   "id": "24e3790d",
   "metadata": {},
   "outputs": [],
   "source": [
    "s=\"my name is sai and my friend name is chandra kiran \""
   ]
  },
  {
   "cell_type": "code",
   "execution_count": null,
   "id": "0a80656e",
   "metadata": {},
   "outputs": [],
   "source": [
    "#recquirement is to find the index of n,a,m,e in the substring name "
   ]
  },
  {
   "cell_type": "code",
   "execution_count": null,
   "id": "7e2e80e3",
   "metadata": {},
   "outputs": [],
   "source": [
    "b=s.find(\"name\")\n",
    "for i in range(len(\"name\")):\n",
    "    print(b+i)"
   ]
  },
  {
   "cell_type": "code",
   "execution_count": 48,
   "id": "d309b556",
   "metadata": {},
   "outputs": [],
   "source": [
    "s=\"my name is sai krishna and my father name is tirupati\""
   ]
  },
  {
   "cell_type": "code",
   "execution_count": 50,
   "id": "0d6dd856",
   "metadata": {},
   "outputs": [
    {
     "data": {
      "text/plain": [
       "2"
      ]
     },
     "execution_count": 50,
     "metadata": {},
     "output_type": "execute_result"
    }
   ],
   "source": [
    "s.count(\"name\")\n",
    "# count function tells the number of occurences of a particular string."
   ]
  },
  {
   "cell_type": "code",
   "execution_count": null,
   "id": "c64845b6",
   "metadata": {},
   "outputs": [],
   "source": [
    "s.split()\n",
    "# by default split function takes space as a seperator \n",
    "# split function return the list of the data"
   ]
  },
  {
   "cell_type": "code",
   "execution_count": null,
   "id": "9c864ebf",
   "metadata": {},
   "outputs": [],
   "source": [
    "s.split(\"and\")\n",
    "# here the delimiter is and "
   ]
  },
  {
   "cell_type": "code",
   "execution_count": null,
   "id": "51c02e77",
   "metadata": {},
   "outputs": [],
   "source": [
    "d=\"my name is sai, my nick name is ganesh\""
   ]
  },
  {
   "cell_type": "code",
   "execution_count": null,
   "id": "8be100df",
   "metadata": {},
   "outputs": [],
   "source": [
    "d.split(\",\")"
   ]
  },
  {
   "cell_type": "code",
   "execution_count": null,
   "id": "165212d1",
   "metadata": {},
   "outputs": [],
   "source": [
    "type(d.split(\",\"))\n",
    "#return type of the split function is list "
   ]
  },
  {
   "cell_type": "code",
   "execution_count": null,
   "id": "873d1802",
   "metadata": {},
   "outputs": [],
   "source": [
    "d.lower()"
   ]
  },
  {
   "cell_type": "code",
   "execution_count": null,
   "id": "bf56e176",
   "metadata": {},
   "outputs": [],
   "source": [
    "d.upper()"
   ]
  },
  {
   "cell_type": "code",
   "execution_count": 63,
   "id": "29148de6",
   "metadata": {},
   "outputs": [],
   "source": [
    "s=\"My Name is sai Krishna\""
   ]
  },
  {
   "cell_type": "code",
   "execution_count": 64,
   "id": "83c6d5a9",
   "metadata": {},
   "outputs": [
    {
     "data": {
      "text/plain": [
       "'mY nAME IS SAI kRISHNA'"
      ]
     },
     "execution_count": 64,
     "metadata": {},
     "output_type": "execute_result"
    }
   ],
   "source": [
    "s.swapcase()\n",
    "#swapcase function converts uppercase into lowercase letters and lowercase into uppercase letters."
   ]
  },
  {
   "cell_type": "code",
   "execution_count": null,
   "id": "193b049e",
   "metadata": {},
   "outputs": [],
   "source": [
    "\" \".join(s)\n",
    "#Everything is seperated by space."
   ]
  },
  {
   "cell_type": "code",
   "execution_count": null,
   "id": "bff75a35",
   "metadata": {},
   "outputs": [],
   "source": [
    "\"b\".join(s)\n",
    "#Everything is seperated by b."
   ]
  },
  {
   "cell_type": "code",
   "execution_count": null,
   "id": "f15ad58e",
   "metadata": {},
   "outputs": [],
   "source": [
    "s=\"My name is sai Krishna\"\n",
    "reversed(s)\n",
    "#reversed function is used to reverse the string here\n",
    "# we can reverse the string using s[::-1]"
   ]
  },
  {
   "cell_type": "code",
   "execution_count": null,
   "id": "1c0cd4e8",
   "metadata": {},
   "outputs": [],
   "source": [
    "# we get output in the object format if we use reversed function."
   ]
  },
  {
   "cell_type": "code",
   "execution_count": null,
   "id": "c19021f4",
   "metadata": {},
   "outputs": [],
   "source": [
    "list(reversed(s))"
   ]
  },
  {
   "cell_type": "code",
   "execution_count": null,
   "id": "b15b8150",
   "metadata": {},
   "outputs": [],
   "source": [
    "for i in reversed(s):\n",
    "    print(i)"
   ]
  },
  {
   "cell_type": "code",
   "execution_count": null,
   "id": "5e1d7b8f",
   "metadata": {},
   "outputs": [],
   "source": [
    "s=\"    sai krishna   \"\n"
   ]
  },
  {
   "cell_type": "code",
   "execution_count": null,
   "id": "f2fc139e",
   "metadata": {},
   "outputs": [],
   "source": [
    "s.strip()\n",
    "#strip function will remove all the whitespaces before and after the string .\n",
    "#strip function will not remove the whitespaces in between the string"
   ]
  },
  {
   "cell_type": "code",
   "execution_count": null,
   "id": "d011179f",
   "metadata": {},
   "outputs": [],
   "source": [
    "s=\"sai     krishna\""
   ]
  },
  {
   "cell_type": "code",
   "execution_count": null,
   "id": "d3a713a9",
   "metadata": {},
   "outputs": [],
   "source": [
    "s.strip()"
   ]
  },
  {
   "cell_type": "code",
   "execution_count": null,
   "id": "4a70755f",
   "metadata": {},
   "outputs": [],
   "source": [
    "s=\" sai krishna dvslvvv  \""
   ]
  },
  {
   "cell_type": "code",
   "execution_count": null,
   "id": "22fdafeb",
   "metadata": {},
   "outputs": [],
   "source": [
    "s.lstrip()\n",
    "# lstrip function is used to remove left side white spaces in the string "
   ]
  },
  {
   "cell_type": "code",
   "execution_count": null,
   "id": "b7939646",
   "metadata": {},
   "outputs": [],
   "source": [
    "s.rstrip()\n",
    "# rstrip function is used to remove right side white spaces in the string"
   ]
  },
  {
   "cell_type": "code",
   "execution_count": null,
   "id": "72e10385",
   "metadata": {},
   "outputs": [],
   "source": [
    "s.strip()\n",
    "# removes both left and right side white spaces in the string "
   ]
  },
  {
   "cell_type": "code",
   "execution_count": 11,
   "id": "7323cb34",
   "metadata": {},
   "outputs": [],
   "source": [
    "s=\"greetings from ineuron\""
   ]
  },
  {
   "cell_type": "code",
   "execution_count": 12,
   "id": "778ed506",
   "metadata": {},
   "outputs": [
    {
     "data": {
      "text/plain": [
       "'dreetinds from ineuron'"
      ]
     },
     "execution_count": 12,
     "metadata": {},
     "output_type": "execute_result"
    }
   ],
   "source": [
    "s.replace(\"g\",\"d\")"
   ]
  },
  {
   "cell_type": "code",
   "execution_count": 13,
   "id": "66d53435",
   "metadata": {},
   "outputs": [
    {
     "data": {
      "text/plain": [
       "'vskreetinvsks from ineuron'"
      ]
     },
     "execution_count": 13,
     "metadata": {},
     "output_type": "execute_result"
    }
   ],
   "source": [
    "s.replace(\"g\",\"vsk\")"
   ]
  },
  {
   "cell_type": "code",
   "execution_count": 14,
   "id": "3a244e6c",
   "metadata": {},
   "outputs": [
    {
     "data": {
      "text/plain": [
       "'saieetings from ineuron'"
      ]
     },
     "execution_count": 14,
     "metadata": {},
     "output_type": "execute_result"
    }
   ],
   "source": [
    "s.replace(\"gr\",\"sai\")"
   ]
  },
  {
   "cell_type": "code",
   "execution_count": null,
   "id": "14ce84fa",
   "metadata": {},
   "outputs": [],
   "source": [
    "s"
   ]
  },
  {
   "cell_type": "code",
   "execution_count": null,
   "id": "08d530b1",
   "metadata": {},
   "outputs": [],
   "source": [
    "# there is no changes in the original string "
   ]
  },
  {
   "cell_type": "code",
   "execution_count": null,
   "id": "ffa3fb36",
   "metadata": {},
   "outputs": [],
   "source": [
    "s=\"sai\""
   ]
  },
  {
   "cell_type": "code",
   "execution_count": null,
   "id": "0fd1fdd4",
   "metadata": {},
   "outputs": [],
   "source": [
    "s.center(20,\"b\")\n",
    "# output has length of space as 20 and the centre of the output is string s and remaining vacant places are filled with b"
   ]
  },
  {
   "cell_type": "code",
   "execution_count": null,
   "id": "12adc2aa",
   "metadata": {},
   "outputs": [],
   "source": [
    "s.center(23,\"by\")\n",
    "# here we get the error because in the second argument we can give a string of single character only ."
   ]
  },
  {
   "cell_type": "code",
   "execution_count": null,
   "id": "7020e76d",
   "metadata": {},
   "outputs": [],
   "source": [
    "s.center(22,\"#\")"
   ]
  },
  {
   "cell_type": "code",
   "execution_count": null,
   "id": "ba3d5a00",
   "metadata": {},
   "outputs": [],
   "source": [
    "s=\"sai\\tkrishna\""
   ]
  },
  {
   "cell_type": "code",
   "execution_count": null,
   "id": "f4d58422",
   "metadata": {},
   "outputs": [],
   "source": [
    "s.expandtabs()"
   ]
  },
  {
   "cell_type": "code",
   "execution_count": 52,
   "id": "f3736ea3",
   "metadata": {},
   "outputs": [],
   "source": [
    "a=\"we all are a part of Full Stack\""
   ]
  },
  {
   "cell_type": "code",
   "execution_count": 53,
   "id": "b8666f3e",
   "metadata": {},
   "outputs": [],
   "source": [
    "a=a.lower()"
   ]
  },
  {
   "cell_type": "code",
   "execution_count": 54,
   "id": "04e969a1",
   "metadata": {},
   "outputs": [
    {
     "data": {
      "text/plain": [
       "'we all are a part of full stack'"
      ]
     },
     "execution_count": 54,
     "metadata": {},
     "output_type": "execute_result"
    }
   ],
   "source": [
    "a"
   ]
  },
  {
   "cell_type": "code",
   "execution_count": 55,
   "id": "86937c36",
   "metadata": {},
   "outputs": [
    {
     "data": {
      "text/plain": [
       "5"
      ]
     },
     "execution_count": 55,
     "metadata": {},
     "output_type": "execute_result"
    }
   ],
   "source": [
    "a.count(\"a\")"
   ]
  },
  {
   "cell_type": "code",
   "execution_count": 56,
   "id": "725bd637",
   "metadata": {},
   "outputs": [
    {
     "name": "stdout",
     "output_type": "stream",
     "text": [
      "3\n",
      "7\n",
      "11\n",
      "14\n",
      "28\n"
     ]
    }
   ],
   "source": [
    "for i in range(len(a)):\n",
    "    if a[i]==\"a\":\n",
    "        print(i)"
   ]
  },
  {
   "cell_type": "code",
   "execution_count": 57,
   "id": "740df752",
   "metadata": {},
   "outputs": [],
   "source": [
    "a=a.replace(\"a\",\"iNeuron\")"
   ]
  },
  {
   "cell_type": "code",
   "execution_count": 58,
   "id": "90199b2e",
   "metadata": {},
   "outputs": [
    {
     "data": {
      "text/plain": [
       "'we iNeuronll iNeuronre iNeuron piNeuronrt of full stiNeuronck'"
      ]
     },
     "execution_count": 58,
     "metadata": {},
     "output_type": "execute_result"
    }
   ],
   "source": [
    "a"
   ]
  },
  {
   "cell_type": "code",
   "execution_count": 61,
   "id": "59136683",
   "metadata": {},
   "outputs": [
    {
     "data": {
      "text/plain": [
       "['we',\n",
       " 'iNeuronll',\n",
       " 'iNeuronre',\n",
       " 'iNeuron',\n",
       " 'piNeuronrt',\n",
       " 'of',\n",
       " 'full',\n",
       " 'stiNeuronck']"
      ]
     },
     "execution_count": 61,
     "metadata": {},
     "output_type": "execute_result"
    }
   ],
   "source": [
    "a.split(\" \")\n",
    "# In split function the default seperator is space."
   ]
  },
  {
   "cell_type": "code",
   "execution_count": 60,
   "id": "390dc212",
   "metadata": {},
   "outputs": [
    {
     "data": {
      "text/plain": [
       "list"
      ]
     },
     "execution_count": 60,
     "metadata": {},
     "output_type": "execute_result"
    }
   ],
   "source": [
    "type(a.split(\" \"))"
   ]
  },
  {
   "cell_type": "code",
   "execution_count": 15,
   "id": "f2998f96",
   "metadata": {},
   "outputs": [],
   "source": [
    "s=\"sai krishna\""
   ]
  },
  {
   "cell_type": "code",
   "execution_count": 16,
   "id": "259b20ec",
   "metadata": {},
   "outputs": [],
   "source": [
    "# isalpha,isdigit,isdigit,isidentifier,etc... any inbuilt funcion which is starting \n",
    "# with \"is\" return boolean type result True or False"
   ]
  },
  {
   "cell_type": "code",
   "execution_count": 17,
   "id": "d1392b3c",
   "metadata": {},
   "outputs": [
    {
     "data": {
      "text/plain": [
       "False"
      ]
     },
     "execution_count": 17,
     "metadata": {},
     "output_type": "execute_result"
    }
   ],
   "source": [
    "s.isupper()"
   ]
  },
  {
   "cell_type": "code",
   "execution_count": 18,
   "id": "e5769033",
   "metadata": {},
   "outputs": [
    {
     "data": {
      "text/plain": [
       "True"
      ]
     },
     "execution_count": 18,
     "metadata": {},
     "output_type": "execute_result"
    }
   ],
   "source": [
    "s.islower()"
   ]
  },
  {
   "cell_type": "code",
   "execution_count": 19,
   "id": "b3c06a54",
   "metadata": {},
   "outputs": [],
   "source": [
    "s=\"    \""
   ]
  },
  {
   "cell_type": "code",
   "execution_count": 20,
   "id": "80e44d6f",
   "metadata": {},
   "outputs": [
    {
     "data": {
      "text/plain": [
       "True"
      ]
     },
     "execution_count": 20,
     "metadata": {},
     "output_type": "execute_result"
    }
   ],
   "source": [
    "s.isspace()"
   ]
  },
  {
   "cell_type": "code",
   "execution_count": 21,
   "id": "eb5ac873",
   "metadata": {},
   "outputs": [],
   "source": [
    "s=\"  x \""
   ]
  },
  {
   "cell_type": "code",
   "execution_count": 22,
   "id": "39fd60e3",
   "metadata": {},
   "outputs": [
    {
     "data": {
      "text/plain": [
       "False"
      ]
     },
     "execution_count": 22,
     "metadata": {},
     "output_type": "execute_result"
    }
   ],
   "source": [
    "s.isspace()"
   ]
  },
  {
   "cell_type": "code",
   "execution_count": 23,
   "id": "52be2438",
   "metadata": {},
   "outputs": [],
   "source": [
    "s=\"1234\""
   ]
  },
  {
   "cell_type": "code",
   "execution_count": 24,
   "id": "40db82b0",
   "metadata": {},
   "outputs": [
    {
     "data": {
      "text/plain": [
       "True"
      ]
     },
     "execution_count": 24,
     "metadata": {},
     "output_type": "execute_result"
    }
   ],
   "source": [
    "s.isdigit()"
   ]
  },
  {
   "cell_type": "code",
   "execution_count": 25,
   "id": "06dca472",
   "metadata": {},
   "outputs": [],
   "source": [
    "s=\"biotonicg\""
   ]
  },
  {
   "cell_type": "code",
   "execution_count": 26,
   "id": "cd90f209",
   "metadata": {},
   "outputs": [
    {
     "data": {
      "text/plain": [
       "True"
      ]
     },
     "execution_count": 26,
     "metadata": {},
     "output_type": "execute_result"
    }
   ],
   "source": [
    "s.endswith(\"g\")"
   ]
  },
  {
   "cell_type": "code",
   "execution_count": 27,
   "id": "e00e6d1f",
   "metadata": {},
   "outputs": [
    {
     "data": {
      "text/plain": [
       "True"
      ]
     },
     "execution_count": 27,
     "metadata": {},
     "output_type": "execute_result"
    }
   ],
   "source": [
    "s.startswith(\"b\")"
   ]
  },
  {
   "cell_type": "code",
   "execution_count": 28,
   "id": "37e45f5c",
   "metadata": {},
   "outputs": [],
   "source": [
    "s=\"123\"\n"
   ]
  },
  {
   "cell_type": "code",
   "execution_count": 29,
   "id": "6abd68ff",
   "metadata": {},
   "outputs": [
    {
     "data": {
      "text/plain": [
       "True"
      ]
     },
     "execution_count": 29,
     "metadata": {},
     "output_type": "execute_result"
    }
   ],
   "source": [
    "s.isalnum()\n",
    "# The isalnum() method returns True if all the characters are alphanumeric, meaning alphabet letter (a-z) or\n",
    "# numbers (0-9) or both containing alphabets and numbers"
   ]
  },
  {
   "cell_type": "code",
   "execution_count": 30,
   "id": "82f7f51b",
   "metadata": {},
   "outputs": [],
   "source": [
    "s=\"sai\""
   ]
  },
  {
   "cell_type": "code",
   "execution_count": 31,
   "id": "320b78b1",
   "metadata": {},
   "outputs": [
    {
     "data": {
      "text/plain": [
       "True"
      ]
     },
     "execution_count": 31,
     "metadata": {},
     "output_type": "execute_result"
    }
   ],
   "source": [
    "s.isalnum()"
   ]
  },
  {
   "cell_type": "code",
   "execution_count": 32,
   "id": "808f0f17",
   "metadata": {},
   "outputs": [],
   "source": [
    "s=\"123absc\""
   ]
  },
  {
   "cell_type": "code",
   "execution_count": 33,
   "id": "6d8c02d7",
   "metadata": {},
   "outputs": [
    {
     "data": {
      "text/plain": [
       "True"
      ]
     },
     "execution_count": 33,
     "metadata": {},
     "output_type": "execute_result"
    }
   ],
   "source": [
    "s.isalnum()"
   ]
  },
  {
   "cell_type": "code",
   "execution_count": 34,
   "id": "539c9bb2",
   "metadata": {},
   "outputs": [],
   "source": [
    "s=\"saikrishna\""
   ]
  },
  {
   "cell_type": "code",
   "execution_count": 35,
   "id": "05e6df54",
   "metadata": {},
   "outputs": [
    {
     "data": {
      "text/plain": [
       "True"
      ]
     },
     "execution_count": 35,
     "metadata": {},
     "output_type": "execute_result"
    }
   ],
   "source": [
    "s.isalpha()\n",
    "# return true if all the characters are alphabets"
   ]
  },
  {
   "cell_type": "code",
   "execution_count": 36,
   "id": "643a2c70",
   "metadata": {},
   "outputs": [],
   "source": [
    "s=\"Fds\""
   ]
  },
  {
   "cell_type": "code",
   "execution_count": 37,
   "id": "cdb41a4d",
   "metadata": {},
   "outputs": [
    {
     "data": {
      "text/plain": [
       "True"
      ]
     },
     "execution_count": 37,
     "metadata": {},
     "output_type": "execute_result"
    }
   ],
   "source": [
    "s.istitle()\n",
    "# istitle() function will check whether first character is uppercase or not . if firstcase is upper then returns true"
   ]
  },
  {
   "cell_type": "code",
   "execution_count": null,
   "id": "f1175df4",
   "metadata": {},
   "outputs": [],
   "source": [
    "s=\"fds\""
   ]
  },
  {
   "cell_type": "code",
   "execution_count": null,
   "id": "47779c89",
   "metadata": {},
   "outputs": [],
   "source": [
    "s.istitle()"
   ]
  },
  {
   "cell_type": "code",
   "execution_count": null,
   "id": "4149ab5f",
   "metadata": {},
   "outputs": [],
   "source": [
    "s=\"i have joined in full stack data science batch\""
   ]
  },
  {
   "cell_type": "code",
   "execution_count": null,
   "id": "ec630d8e",
   "metadata": {},
   "outputs": [],
   "source": [
    "len(s)"
   ]
  },
  {
   "cell_type": "code",
   "execution_count": null,
   "id": "9e371dc1",
   "metadata": {},
   "outputs": [],
   "source": [
    "# i want to count the length of string without using any inbuilt functions"
   ]
  },
  {
   "cell_type": "code",
   "execution_count": null,
   "id": "517d0c10",
   "metadata": {},
   "outputs": [],
   "source": [
    "count=0\n",
    "for i in s:\n",
    "    count+=1\n",
    "print(count)\n",
    "    "
   ]
  },
  {
   "cell_type": "code",
   "execution_count": null,
   "id": "db5db1d2",
   "metadata": {},
   "outputs": [],
   "source": [
    "# i want to reverse string without using any inbuilt and s[::-1]"
   ]
  },
  {
   "cell_type": "code",
   "execution_count": 65,
   "id": "132f7218",
   "metadata": {},
   "outputs": [],
   "source": [
    "s=\"sai krishna\""
   ]
  },
  {
   "cell_type": "code",
   "execution_count": 67,
   "id": "10ede6e8",
   "metadata": {},
   "outputs": [
    {
     "data": {
      "text/plain": [
       "'Sai Krishna'"
      ]
     },
     "execution_count": 67,
     "metadata": {},
     "output_type": "execute_result"
    }
   ],
   "source": [
    "s.title()\n",
    "# first letter will be upper case and remaining characters are lower case."
   ]
  },
  {
   "cell_type": "code",
   "execution_count": 68,
   "id": "3ad08bd9",
   "metadata": {},
   "outputs": [
    {
     "data": {
      "text/plain": [
       "'Sai krishna'"
      ]
     },
     "execution_count": 68,
     "metadata": {},
     "output_type": "execute_result"
    }
   ],
   "source": [
    "s.capitalize()"
   ]
  },
  {
   "cell_type": "code",
   "execution_count": 69,
   "id": "02133779",
   "metadata": {},
   "outputs": [],
   "source": [
    "# title() and capitalize() gives almost the similar result"
   ]
  },
  {
   "cell_type": "code",
   "execution_count": 4,
   "id": "0a08e368",
   "metadata": {},
   "outputs": [
    {
     "data": {
      "text/plain": [
       "'isainsaiesaiusairsaiosain'"
      ]
     },
     "execution_count": 4,
     "metadata": {},
     "output_type": "execute_result"
    }
   ],
   "source": [
    "b=\"sai\"\n",
    "c=\"ineuron\"\n",
    "b.join(c)\n",
    "# after every character in ineuron string b is joined ."
   ]
  },
  {
   "cell_type": "code",
   "execution_count": 5,
   "id": "4b833ec5",
   "metadata": {},
   "outputs": [],
   "source": [
    "# Syntax \n",
    "# string.join(iterable)\n",
    "# The join() method takes all items in an iterable and joins them into one string."
   ]
  },
  {
   "cell_type": "code",
   "execution_count": 6,
   "id": "ca59c242",
   "metadata": {},
   "outputs": [
    {
     "data": {
      "text/plain": [
       "'s a i'"
      ]
     },
     "execution_count": 6,
     "metadata": {},
     "output_type": "execute_result"
    }
   ],
   "source": [
    "\" \".join(\"sai\")"
   ]
  },
  {
   "cell_type": "code",
   "execution_count": 2,
   "id": "60ae9aa4",
   "metadata": {},
   "outputs": [
    {
     "data": {
      "text/plain": [
       "'ksairsaiisaissaihsainsaia'"
      ]
     },
     "execution_count": 2,
     "metadata": {},
     "output_type": "execute_result"
    }
   ],
   "source": [
    "a=\"sai\"\n",
    "b=\"krishna\"\n",
    "\"sai\".join(b)"
   ]
  },
  {
   "cell_type": "code",
   "execution_count": null,
   "id": "f2ca9e5f",
   "metadata": {},
   "outputs": [],
   "source": []
  }
 ],
 "metadata": {
  "kernelspec": {
   "display_name": "Python 3 (ipykernel)",
   "language": "python",
   "name": "python3"
  },
  "language_info": {
   "codemirror_mode": {
    "name": "ipython",
    "version": 3
   },
   "file_extension": ".py",
   "mimetype": "text/x-python",
   "name": "python",
   "nbconvert_exporter": "python",
   "pygments_lexer": "ipython3",
   "version": "3.11.3"
  }
 },
 "nbformat": 4,
 "nbformat_minor": 5
}
